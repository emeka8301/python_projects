{
 "cells": [
  {
   "cell_type": "markdown",
   "id": "e58ba196",
   "metadata": {},
   "source": [
    "# Vehicle Loan Prediction Machine Learning Model\n",
    "\n",
    "In this demonstration, I will be using basic machine learning to make predictions using data. I will visualize the predictions to see how well the model performed.\n",
    "\n",
    "I will be using exploratory data analysis to identify variables with likely predictive power and feature engineering to transform the data. \n",
    "\n",
    "A logistic regression ans random tree forest prediction model will be built and compared using common evaluation metrics.\n",
    "\n",
    "\n",
    "## Load and Clean the Data\n",
    "\n",
    "In the experiment, I will be predicting vehicle loan defaults and creditworthiness of customers using variables with likely predictive power.\n",
    "\n",
    "The data is collected from India."
   ]
  },
  {
   "cell_type": "code",
   "execution_count": 1,
   "id": "13674294",
   "metadata": {},
   "outputs": [],
   "source": [
    "import pandas as pd\n",
    "import matplotlib.pyplot as plt\n",
    "import numpy as np\n",
    "import seaborn as sns\n",
    "from sklearn.preprocessing import MinMaxScaler\n",
    "from sklearn.linear_model import LogisticRegression\n",
    "from sklearn.ensemble import RandomForestClassifier\n",
    "from sklearn.model_selection import train_test_split\n",
    "from sklearn.metrics import confusion_matrix, f1_score, accuracy_score, recall_score, roc_curve, auc, precision_score, ConfusionMatrixDisplay"
   ]
  },
  {
   "cell_type": "code",
   "execution_count": 2,
   "id": "06e59cb9",
   "metadata": {},
   "outputs": [],
   "source": [
    "loan_df = pd.read_csv('vehicle_loans.csv', index_col='UNIQUEID')"
   ]
  },
  {
   "cell_type": "code",
   "execution_count": 3,
   "id": "3e2c17ec",
   "metadata": {},
   "outputs": [
    {
     "data": {
      "text/html": [
       "<div>\n",
       "<style scoped>\n",
       "    .dataframe tbody tr th:only-of-type {\n",
       "        vertical-align: middle;\n",
       "    }\n",
       "\n",
       "    .dataframe tbody tr th {\n",
       "        vertical-align: top;\n",
       "    }\n",
       "\n",
       "    .dataframe thead th {\n",
       "        text-align: right;\n",
       "    }\n",
       "</style>\n",
       "<table border=\"1\" class=\"dataframe\">\n",
       "  <thead>\n",
       "    <tr style=\"text-align: right;\">\n",
       "      <th></th>\n",
       "      <th>DISBURSED_AMOUNT</th>\n",
       "      <th>ASSET_COST</th>\n",
       "      <th>LTV</th>\n",
       "      <th>BRANCH_ID</th>\n",
       "      <th>SUPPLIER_ID</th>\n",
       "      <th>MANUFACTURER_ID</th>\n",
       "      <th>CURRENT_PINCODE_ID</th>\n",
       "      <th>DATE_OF_BIRTH</th>\n",
       "      <th>EMPLOYMENT_TYPE</th>\n",
       "      <th>DISBURSAL_DATE</th>\n",
       "      <th>...</th>\n",
       "      <th>SEC_SANCTIONED_AMOUNT</th>\n",
       "      <th>SEC_DISBURSED_AMOUNT</th>\n",
       "      <th>PRIMARY_INSTAL_AMT</th>\n",
       "      <th>SEC_INSTAL_AMT</th>\n",
       "      <th>NEW_ACCTS_IN_LAST_SIX_MONTHS</th>\n",
       "      <th>DELINQUENT_ACCTS_IN_LAST_SIX_MONTHS</th>\n",
       "      <th>AVERAGE_ACCT_AGE</th>\n",
       "      <th>CREDIT_HISTORY_LENGTH</th>\n",
       "      <th>NO_OF_INQUIRIES</th>\n",
       "      <th>LOAN_DEFAULT</th>\n",
       "    </tr>\n",
       "    <tr>\n",
       "      <th>UNIQUEID</th>\n",
       "      <th></th>\n",
       "      <th></th>\n",
       "      <th></th>\n",
       "      <th></th>\n",
       "      <th></th>\n",
       "      <th></th>\n",
       "      <th></th>\n",
       "      <th></th>\n",
       "      <th></th>\n",
       "      <th></th>\n",
       "      <th></th>\n",
       "      <th></th>\n",
       "      <th></th>\n",
       "      <th></th>\n",
       "      <th></th>\n",
       "      <th></th>\n",
       "      <th></th>\n",
       "      <th></th>\n",
       "      <th></th>\n",
       "      <th></th>\n",
       "      <th></th>\n",
       "    </tr>\n",
       "  </thead>\n",
       "  <tbody>\n",
       "    <tr>\n",
       "      <th>420825</th>\n",
       "      <td>50578</td>\n",
       "      <td>58400</td>\n",
       "      <td>89.55</td>\n",
       "      <td>67</td>\n",
       "      <td>22807</td>\n",
       "      <td>45</td>\n",
       "      <td>1441</td>\n",
       "      <td>01-01-1984</td>\n",
       "      <td>Salaried</td>\n",
       "      <td>03-08-2018</td>\n",
       "      <td>...</td>\n",
       "      <td>0</td>\n",
       "      <td>0</td>\n",
       "      <td>0</td>\n",
       "      <td>0</td>\n",
       "      <td>0</td>\n",
       "      <td>0</td>\n",
       "      <td>0yrs 0mon</td>\n",
       "      <td>0yrs 0mon</td>\n",
       "      <td>0</td>\n",
       "      <td>0</td>\n",
       "    </tr>\n",
       "    <tr>\n",
       "      <th>537409</th>\n",
       "      <td>47145</td>\n",
       "      <td>65550</td>\n",
       "      <td>73.23</td>\n",
       "      <td>67</td>\n",
       "      <td>22807</td>\n",
       "      <td>45</td>\n",
       "      <td>1502</td>\n",
       "      <td>31-07-1985</td>\n",
       "      <td>Self employed</td>\n",
       "      <td>26-09-2018</td>\n",
       "      <td>...</td>\n",
       "      <td>0</td>\n",
       "      <td>0</td>\n",
       "      <td>1991</td>\n",
       "      <td>0</td>\n",
       "      <td>0</td>\n",
       "      <td>1</td>\n",
       "      <td>1yrs 11mon</td>\n",
       "      <td>1yrs 11mon</td>\n",
       "      <td>0</td>\n",
       "      <td>1</td>\n",
       "    </tr>\n",
       "    <tr>\n",
       "      <th>417566</th>\n",
       "      <td>53278</td>\n",
       "      <td>61360</td>\n",
       "      <td>89.63</td>\n",
       "      <td>67</td>\n",
       "      <td>22807</td>\n",
       "      <td>45</td>\n",
       "      <td>1497</td>\n",
       "      <td>24-08-1985</td>\n",
       "      <td>Self employed</td>\n",
       "      <td>01-08-2018</td>\n",
       "      <td>...</td>\n",
       "      <td>0</td>\n",
       "      <td>0</td>\n",
       "      <td>0</td>\n",
       "      <td>0</td>\n",
       "      <td>0</td>\n",
       "      <td>0</td>\n",
       "      <td>0yrs 0mon</td>\n",
       "      <td>0yrs 0mon</td>\n",
       "      <td>0</td>\n",
       "      <td>0</td>\n",
       "    </tr>\n",
       "    <tr>\n",
       "      <th>624493</th>\n",
       "      <td>57513</td>\n",
       "      <td>66113</td>\n",
       "      <td>88.48</td>\n",
       "      <td>67</td>\n",
       "      <td>22807</td>\n",
       "      <td>45</td>\n",
       "      <td>1501</td>\n",
       "      <td>30-12-1993</td>\n",
       "      <td>Self employed</td>\n",
       "      <td>26-10-2018</td>\n",
       "      <td>...</td>\n",
       "      <td>0</td>\n",
       "      <td>0</td>\n",
       "      <td>31</td>\n",
       "      <td>0</td>\n",
       "      <td>0</td>\n",
       "      <td>0</td>\n",
       "      <td>0yrs 8mon</td>\n",
       "      <td>1yrs 3mon</td>\n",
       "      <td>1</td>\n",
       "      <td>1</td>\n",
       "    </tr>\n",
       "    <tr>\n",
       "      <th>539055</th>\n",
       "      <td>52378</td>\n",
       "      <td>60300</td>\n",
       "      <td>88.39</td>\n",
       "      <td>67</td>\n",
       "      <td>22807</td>\n",
       "      <td>45</td>\n",
       "      <td>1495</td>\n",
       "      <td>09-12-1977</td>\n",
       "      <td>Self employed</td>\n",
       "      <td>26-09-2018</td>\n",
       "      <td>...</td>\n",
       "      <td>0</td>\n",
       "      <td>0</td>\n",
       "      <td>0</td>\n",
       "      <td>0</td>\n",
       "      <td>0</td>\n",
       "      <td>0</td>\n",
       "      <td>0yrs 0mon</td>\n",
       "      <td>0yrs 0mon</td>\n",
       "      <td>1</td>\n",
       "      <td>1</td>\n",
       "    </tr>\n",
       "  </tbody>\n",
       "</table>\n",
       "<p>5 rows × 40 columns</p>\n",
       "</div>"
      ],
      "text/plain": [
       "          DISBURSED_AMOUNT  ASSET_COST    LTV  BRANCH_ID  SUPPLIER_ID  \\\n",
       "UNIQUEID                                                                \n",
       "420825               50578       58400  89.55         67        22807   \n",
       "537409               47145       65550  73.23         67        22807   \n",
       "417566               53278       61360  89.63         67        22807   \n",
       "624493               57513       66113  88.48         67        22807   \n",
       "539055               52378       60300  88.39         67        22807   \n",
       "\n",
       "          MANUFACTURER_ID  CURRENT_PINCODE_ID DATE_OF_BIRTH EMPLOYMENT_TYPE  \\\n",
       "UNIQUEID                                                                      \n",
       "420825                 45                1441    01-01-1984        Salaried   \n",
       "537409                 45                1502    31-07-1985   Self employed   \n",
       "417566                 45                1497    24-08-1985   Self employed   \n",
       "624493                 45                1501    30-12-1993   Self employed   \n",
       "539055                 45                1495    09-12-1977   Self employed   \n",
       "\n",
       "         DISBURSAL_DATE  ...  SEC_SANCTIONED_AMOUNT  SEC_DISBURSED_AMOUNT  \\\n",
       "UNIQUEID                 ...                                                \n",
       "420825       03-08-2018  ...                      0                     0   \n",
       "537409       26-09-2018  ...                      0                     0   \n",
       "417566       01-08-2018  ...                      0                     0   \n",
       "624493       26-10-2018  ...                      0                     0   \n",
       "539055       26-09-2018  ...                      0                     0   \n",
       "\n",
       "          PRIMARY_INSTAL_AMT  SEC_INSTAL_AMT  NEW_ACCTS_IN_LAST_SIX_MONTHS  \\\n",
       "UNIQUEID                                                                     \n",
       "420825                     0               0                             0   \n",
       "537409                  1991               0                             0   \n",
       "417566                     0               0                             0   \n",
       "624493                    31               0                             0   \n",
       "539055                     0               0                             0   \n",
       "\n",
       "          DELINQUENT_ACCTS_IN_LAST_SIX_MONTHS  AVERAGE_ACCT_AGE  \\\n",
       "UNIQUEID                                                          \n",
       "420825                                      0         0yrs 0mon   \n",
       "537409                                      1        1yrs 11mon   \n",
       "417566                                      0         0yrs 0mon   \n",
       "624493                                      0         0yrs 8mon   \n",
       "539055                                      0         0yrs 0mon   \n",
       "\n",
       "          CREDIT_HISTORY_LENGTH  NO_OF_INQUIRIES LOAN_DEFAULT  \n",
       "UNIQUEID                                                       \n",
       "420825                0yrs 0mon                0            0  \n",
       "537409               1yrs 11mon                0            1  \n",
       "417566                0yrs 0mon                0            0  \n",
       "624493                1yrs 3mon                1            1  \n",
       "539055                0yrs 0mon                1            1  \n",
       "\n",
       "[5 rows x 40 columns]"
      ]
     },
     "execution_count": 3,
     "metadata": {},
     "output_type": "execute_result"
    }
   ],
   "source": [
    "loan_df.head()"
   ]
  },
  {
   "cell_type": "code",
   "execution_count": 4,
   "id": "aa4b14f5",
   "metadata": {},
   "outputs": [
    {
     "name": "stdout",
     "output_type": "stream",
     "text": [
      "Number of rows:  233154\n",
      "Number of columns:  40\n"
     ]
    }
   ],
   "source": [
    "#check the shape of the data \n",
    "print(\"Number of rows: \", loan_df.shape[0])\n",
    "print(\"Number of columns: \", loan_df.shape[1])"
   ]
  },
  {
   "cell_type": "code",
   "execution_count": 5,
   "id": "274b049d",
   "metadata": {},
   "outputs": [
    {
     "name": "stdout",
     "output_type": "stream",
     "text": [
      "<class 'pandas.core.frame.DataFrame'>\n",
      "Int64Index: 233154 entries, 420825 to 630213\n",
      "Data columns (total 40 columns):\n",
      " #   Column                               Non-Null Count   Dtype  \n",
      "---  ------                               --------------   -----  \n",
      " 0   DISBURSED_AMOUNT                     233154 non-null  int64  \n",
      " 1   ASSET_COST                           233154 non-null  int64  \n",
      " 2   LTV                                  233154 non-null  float64\n",
      " 3   BRANCH_ID                            233154 non-null  int64  \n",
      " 4   SUPPLIER_ID                          233154 non-null  int64  \n",
      " 5   MANUFACTURER_ID                      233154 non-null  int64  \n",
      " 6   CURRENT_PINCODE_ID                   233154 non-null  int64  \n",
      " 7   DATE_OF_BIRTH                        233154 non-null  object \n",
      " 8   EMPLOYMENT_TYPE                      225493 non-null  object \n",
      " 9   DISBURSAL_DATE                       233154 non-null  object \n",
      " 10  STATE_ID                             233154 non-null  int64  \n",
      " 11  EMPLOYEE_CODE_ID                     233154 non-null  int64  \n",
      " 12  MOBILENO_AVL_FLAG                    233154 non-null  int64  \n",
      " 13  AADHAR_FLAG                          233154 non-null  int64  \n",
      " 14  PAN_FLAG                             233154 non-null  int64  \n",
      " 15  VOTERID_FLAG                         233154 non-null  int64  \n",
      " 16  DRIVING_FLAG                         233154 non-null  int64  \n",
      " 17  PASSPORT_FLAG                        233154 non-null  int64  \n",
      " 18  PERFORM_CNS_SCORE                    233154 non-null  int64  \n",
      " 19  PERFORM_CNS_SCORE_DESCRIPTION        233154 non-null  object \n",
      " 20  PRI_NO_OF_ACCTS                      233154 non-null  int64  \n",
      " 21  PRI_ACTIVE_ACCTS                     233154 non-null  int64  \n",
      " 22  PRI_OVERDUE_ACCTS                    233154 non-null  int64  \n",
      " 23  PRI_CURRENT_BALANCE                  233154 non-null  int64  \n",
      " 24  PRI_SANCTIONED_AMOUNT                233154 non-null  int64  \n",
      " 25  PRI_DISBURSED_AMOUNT                 233154 non-null  int64  \n",
      " 26  SEC_NO_OF_ACCTS                      233154 non-null  int64  \n",
      " 27  SEC_ACTIVE_ACCTS                     233154 non-null  int64  \n",
      " 28  SEC_OVERDUE_ACCTS                    233154 non-null  int64  \n",
      " 29  SEC_CURRENT_BALANCE                  233154 non-null  int64  \n",
      " 30  SEC_SANCTIONED_AMOUNT                233154 non-null  int64  \n",
      " 31  SEC_DISBURSED_AMOUNT                 233154 non-null  int64  \n",
      " 32  PRIMARY_INSTAL_AMT                   233154 non-null  int64  \n",
      " 33  SEC_INSTAL_AMT                       233154 non-null  int64  \n",
      " 34  NEW_ACCTS_IN_LAST_SIX_MONTHS         233154 non-null  int64  \n",
      " 35  DELINQUENT_ACCTS_IN_LAST_SIX_MONTHS  233154 non-null  int64  \n",
      " 36  AVERAGE_ACCT_AGE                     233154 non-null  object \n",
      " 37  CREDIT_HISTORY_LENGTH                233154 non-null  object \n",
      " 38  NO_OF_INQUIRIES                      233154 non-null  int64  \n",
      " 39  LOAN_DEFAULT                         233154 non-null  int64  \n",
      "dtypes: float64(1), int64(33), object(6)\n",
      "memory usage: 72.9+ MB\n"
     ]
    }
   ],
   "source": [
    "#check the variable type in each column\n",
    "\n",
    "loan_df.info()"
   ]
  },
  {
   "cell_type": "markdown",
   "id": "95da8fc9",
   "metadata": {},
   "source": [
    "There are 3 data types:\n",
    "- int64 (whole number)\n",
    "- float64 (floating point number)\n",
    "- object (string or non-numeric)\n",
    "\n",
    "Straight away there are some interesting things,\n",
    "\n",
    "DATE_OF_BIRTH, EMPLOYMENT_TYPE, DISBURSAL_DATE, PERFORM_CNS_SCORE_DESCRIPTION, AVERAGE_ACCT_AGE and CREDIT_HISTORY_LENGTH are all object data types, meaning they contain non-numeric values such as strings or dates. \n",
    "\n",
    "EMPLOYMENT_TYPE has some missing values.\n",
    "\n"
   ]
  },
  {
   "cell_type": "markdown",
   "id": "018681a7",
   "metadata": {},
   "source": [
    "### Target Variable\n",
    "The variable that is trying to be predicted is the 'LOAN_DEFAULT', it helps to investigate it further."
   ]
  },
  {
   "cell_type": "code",
   "execution_count": 6,
   "id": "0bd54b0c",
   "metadata": {},
   "outputs": [
    {
     "name": "stdout",
     "output_type": "stream",
     "text": [
      "0    182543\n",
      "1     50611\n",
      "Name: LOAN_DEFAULT, dtype: int64\n",
      "0    0.782929\n",
      "1    0.217071\n",
      "Name: LOAN_DEFAULT, dtype: float64\n"
     ]
    }
   ],
   "source": [
    "#number of people whose loans defaulted\n",
    "print(loan_df['LOAN_DEFAULT'].value_counts())\n",
    "\n",
    "#percentage of loans which defaulted\n",
    "print(loan_df['LOAN_DEFAULT'].value_counts(normalize=True))"
   ]
  },
  {
   "cell_type": "markdown",
   "id": "35b0599f",
   "metadata": {},
   "source": [
    "The rate of defaulted loans is about 21.7%. Using seaborn, we can visualize the target variable."
   ]
  },
  {
   "cell_type": "code",
   "execution_count": 7,
   "id": "6f0bb1b9",
   "metadata": {},
   "outputs": [
    {
     "data": {
      "image/png": "[encoded data removed]",
      "text/plain": [
       "<Figure size 640x480 with 1 Axes>"
      ]
     },
     "metadata": {},
     "output_type": "display_data"
    }
   ],
   "source": [
    "sns.countplot(x=\"LOAN_DEFAULT\", data=loan_df)\n",
    "plt.show()"
   ]
  },
  {
   "cell_type": "markdown",
   "id": "dfde7211",
   "metadata": {},
   "source": [
    "### Missing Values\n",
    "\n",
    "We saw earlier that our dataset contains some missing values, specifically for the EMPLOYMENT_TYPE column. "
   ]
  },
  {
   "cell_type": "code",
   "execution_count": 8,
   "id": "8d20c649",
   "metadata": {},
   "outputs": [
    {
     "data": {
      "text/plain": [
       "DISBURSED_AMOUNT                       False\n",
       "ASSET_COST                             False\n",
       "LTV                                    False\n",
       "BRANCH_ID                              False\n",
       "SUPPLIER_ID                            False\n",
       "MANUFACTURER_ID                        False\n",
       "CURRENT_PINCODE_ID                     False\n",
       "DATE_OF_BIRTH                          False\n",
       "EMPLOYMENT_TYPE                         True\n",
       "DISBURSAL_DATE                         False\n",
       "STATE_ID                               False\n",
       "EMPLOYEE_CODE_ID                       False\n",
       "MOBILENO_AVL_FLAG                      False\n",
       "AADHAR_FLAG                            False\n",
       "PAN_FLAG                               False\n",
       "VOTERID_FLAG                           False\n",
       "DRIVING_FLAG                           False\n",
       "PASSPORT_FLAG                          False\n",
       "PERFORM_CNS_SCORE                      False\n",
       "PERFORM_CNS_SCORE_DESCRIPTION          False\n",
       "PRI_NO_OF_ACCTS                        False\n",
       "PRI_ACTIVE_ACCTS                       False\n",
       "PRI_OVERDUE_ACCTS                      False\n",
       "PRI_CURRENT_BALANCE                    False\n",
       "PRI_SANCTIONED_AMOUNT                  False\n",
       "PRI_DISBURSED_AMOUNT                   False\n",
       "SEC_NO_OF_ACCTS                        False\n",
       "SEC_ACTIVE_ACCTS                       False\n",
       "SEC_OVERDUE_ACCTS                      False\n",
       "SEC_CURRENT_BALANCE                    False\n",
       "SEC_SANCTIONED_AMOUNT                  False\n",
       "SEC_DISBURSED_AMOUNT                   False\n",
       "PRIMARY_INSTAL_AMT                     False\n",
       "SEC_INSTAL_AMT                         False\n",
       "NEW_ACCTS_IN_LAST_SIX_MONTHS           False\n",
       "DELINQUENT_ACCTS_IN_LAST_SIX_MONTHS    False\n",
       "AVERAGE_ACCT_AGE                       False\n",
       "CREDIT_HISTORY_LENGTH                  False\n",
       "NO_OF_INQUIRIES                        False\n",
       "LOAN_DEFAULT                           False\n",
       "dtype: bool"
      ]
     },
     "execution_count": 8,
     "metadata": {},
     "output_type": "execute_result"
    }
   ],
   "source": [
    "loan_df.isnull().any()"
   ]
  },
  {
   "cell_type": "code",
   "execution_count": 9,
   "id": "bbafdde0",
   "metadata": {},
   "outputs": [
    {
     "data": {
      "text/plain": [
       "DISBURSED_AMOUNT                          0\n",
       "ASSET_COST                                0\n",
       "LTV                                       0\n",
       "BRANCH_ID                                 0\n",
       "SUPPLIER_ID                               0\n",
       "MANUFACTURER_ID                           0\n",
       "CURRENT_PINCODE_ID                        0\n",
       "DATE_OF_BIRTH                             0\n",
       "EMPLOYMENT_TYPE                        7661\n",
       "DISBURSAL_DATE                            0\n",
       "STATE_ID                                  0\n",
       "EMPLOYEE_CODE_ID                          0\n",
       "MOBILENO_AVL_FLAG                         0\n",
       "AADHAR_FLAG                               0\n",
       "PAN_FLAG                                  0\n",
       "VOTERID_FLAG                              0\n",
       "DRIVING_FLAG                              0\n",
       "PASSPORT_FLAG                             0\n",
       "PERFORM_CNS_SCORE                         0\n",
       "PERFORM_CNS_SCORE_DESCRIPTION             0\n",
       "PRI_NO_OF_ACCTS                           0\n",
       "PRI_ACTIVE_ACCTS                          0\n",
       "PRI_OVERDUE_ACCTS                         0\n",
       "PRI_CURRENT_BALANCE                       0\n",
       "PRI_SANCTIONED_AMOUNT                     0\n",
       "PRI_DISBURSED_AMOUNT                      0\n",
       "SEC_NO_OF_ACCTS                           0\n",
       "SEC_ACTIVE_ACCTS                          0\n",
       "SEC_OVERDUE_ACCTS                         0\n",
       "SEC_CURRENT_BALANCE                       0\n",
       "SEC_SANCTIONED_AMOUNT                     0\n",
       "SEC_DISBURSED_AMOUNT                      0\n",
       "PRIMARY_INSTAL_AMT                        0\n",
       "SEC_INSTAL_AMT                            0\n",
       "NEW_ACCTS_IN_LAST_SIX_MONTHS              0\n",
       "DELINQUENT_ACCTS_IN_LAST_SIX_MONTHS       0\n",
       "AVERAGE_ACCT_AGE                          0\n",
       "CREDIT_HISTORY_LENGTH                     0\n",
       "NO_OF_INQUIRIES                           0\n",
       "LOAN_DEFAULT                              0\n",
       "dtype: int64"
      ]
     },
     "execution_count": 9,
     "metadata": {},
     "output_type": "execute_result"
    }
   ],
   "source": [
    "#Identify the sum of missing values in EMPLOYMENT_TYPE\n",
    "loan_df.isnull().sum()"
   ]
  },
  {
   "cell_type": "markdown",
   "id": "c22f69ed",
   "metadata": {},
   "source": [
    "The values_count can be used to print the distribution in the 'EMPLOYMENT_TYPE' column. This can be visualized. "
   ]
  },
  {
   "cell_type": "code",
   "execution_count": 10,
   "id": "4e129df9",
   "metadata": {},
   "outputs": [
    {
     "name": "stdout",
     "output_type": "stream",
     "text": [
      "Self employed    127635\n",
      "Salaried          97858\n",
      "Name: EMPLOYMENT_TYPE, dtype: int64\n"
     ]
    },
    {
     "data": {
      "image/png": "[encoded data removed]",
      "text/plain": [
       "<Figure size 640x480 with 1 Axes>"
      ]
     },
     "metadata": {},
     "output_type": "display_data"
    }
   ],
   "source": [
    "print(loan_df['EMPLOYMENT_TYPE'].value_counts())\n",
    "sns.countplot(x=\"EMPLOYMENT_TYPE\", data=loan_df)\n",
    "plt.show()"
   ]
  },
  {
   "cell_type": "code",
   "execution_count": 11,
   "id": "0b1f40af",
   "metadata": {},
   "outputs": [
    {
     "name": "stdout",
     "output_type": "stream",
     "text": [
      "Self employed    127635\n",
      "Salaried          97858\n",
      "Missing            7661\n",
      "Name: EMPLOYMENT_TYPE, dtype: int64\n"
     ]
    },
    {
     "data": {
      "image/png": "[encoded data removed]",
      "text/plain": [
       "<Figure size 640x480 with 1 Axes>"
      ]
     },
     "metadata": {},
     "output_type": "display_data"
    }
   ],
   "source": [
    "#fillna with 'missing'\n",
    "loan_df = loan_df.fillna(value={'EMPLOYMENT_TYPE' : 'Missing'})\n",
    "\n",
    "print(loan_df['EMPLOYMENT_TYPE'].value_counts())\n",
    "sns.countplot(x=\"EMPLOYMENT_TYPE\", data=loan_df)\n",
    "plt.show()"
   ]
  },
  {
   "cell_type": "markdown",
   "id": "7802827c",
   "metadata": {},
   "source": [
    "### Dealing with Dates\n",
    "There are two date columns, DISBURSAL_DATE and DATE_OF_BIRTH.\n",
    "These should be transformed into a more algorithm friendly format.\n",
    "\n",
    "An 'AGE' column will then be created to investigate if this age has a correlation with the target variable."
   ]
  },
  {
   "cell_type": "code",
   "execution_count": 12,
   "id": "7437ec93",
   "metadata": {},
   "outputs": [
    {
     "data": {
      "text/html": [
       "<div>\n",
       "<style scoped>\n",
       "    .dataframe tbody tr th:only-of-type {\n",
       "        vertical-align: middle;\n",
       "    }\n",
       "\n",
       "    .dataframe tbody tr th {\n",
       "        vertical-align: top;\n",
       "    }\n",
       "\n",
       "    .dataframe thead th {\n",
       "        text-align: right;\n",
       "    }\n",
       "</style>\n",
       "<table border=\"1\" class=\"dataframe\">\n",
       "  <thead>\n",
       "    <tr style=\"text-align: right;\">\n",
       "      <th></th>\n",
       "      <th>DISBURSAL_DATE</th>\n",
       "      <th>DATE_OF_BIRTH</th>\n",
       "    </tr>\n",
       "    <tr>\n",
       "      <th>UNIQUEID</th>\n",
       "      <th></th>\n",
       "      <th></th>\n",
       "    </tr>\n",
       "  </thead>\n",
       "  <tbody>\n",
       "    <tr>\n",
       "      <th>624148</th>\n",
       "      <td>26-10-2018</td>\n",
       "      <td>01-01-1968</td>\n",
       "    </tr>\n",
       "    <tr>\n",
       "      <th>567297</th>\n",
       "      <td>10-10-2018</td>\n",
       "      <td>01-01-1992</td>\n",
       "    </tr>\n",
       "    <tr>\n",
       "      <th>558813</th>\n",
       "      <td>05-10-2018</td>\n",
       "      <td>01-01-1991</td>\n",
       "    </tr>\n",
       "    <tr>\n",
       "      <th>605268</th>\n",
       "      <td>23-10-2018</td>\n",
       "      <td>01-01-1977</td>\n",
       "    </tr>\n",
       "    <tr>\n",
       "      <th>556994</th>\n",
       "      <td>04-10-2018</td>\n",
       "      <td>11-06-2000</td>\n",
       "    </tr>\n",
       "  </tbody>\n",
       "</table>\n",
       "</div>"
      ],
      "text/plain": [
       "         DISBURSAL_DATE DATE_OF_BIRTH\n",
       "UNIQUEID                             \n",
       "624148       26-10-2018    01-01-1968\n",
       "567297       10-10-2018    01-01-1992\n",
       "558813       05-10-2018    01-01-1991\n",
       "605268       23-10-2018    01-01-1977\n",
       "556994       04-10-2018    11-06-2000"
      ]
     },
     "execution_count": 12,
     "metadata": {},
     "output_type": "execute_result"
    }
   ],
   "source": [
    "loan_df[['DISBURSAL_DATE', 'DATE_OF_BIRTH']].sample(5)"
   ]
  },
  {
   "cell_type": "code",
   "execution_count": 13,
   "id": "1d937e12",
   "metadata": {
    "scrolled": true
   },
   "outputs": [
    {
     "name": "stdout",
     "output_type": "stream",
     "text": [
      "         DATE_OF_BIRTH  AGE DISBURSAL_DATE\n",
      "UNIQUEID                                  \n",
      "449479      1990-01-01   28     2018-08-20\n",
      "503645      1977-01-12   41     2018-09-14\n",
      "464593      1972-01-01   46     2018-08-25\n",
      "639691      1996-01-26   22     2018-10-30\n",
      "526152      1990-09-21   28     2018-09-21\n"
     ]
    }
   ],
   "source": [
    "#convert to datetime\n",
    "loan_df['DATE_OF_BIRTH'] = pd.to_datetime(loan_df['DATE_OF_BIRTH'], format=\"%d-%m-%Y\")\n",
    "loan_df['DISBURSAL_DATE'] = pd.to_datetime(loan_df['DISBURSAL_DATE'], format=\"%d-%m-%Y\")\n",
    "\n",
    "#calculate their age at time of disbursal\n",
    "loan_df['AGE'] = loan_df['DISBURSAL_DATE'] - loan_df['DATE_OF_BIRTH']\n",
    "loan_df['AGE'] = loan_df['AGE'] // np.timedelta64(1, 'Y')\n",
    "\n",
    "#Inspect the results\n",
    "print(loan_df[['DATE_OF_BIRTH', 'AGE', 'DISBURSAL_DATE']].sample(n=5))"
   ]
  },
  {
   "cell_type": "markdown",
   "id": "a9458989",
   "metadata": {},
   "source": [
    "At this point, I do not know how the disbursal date might be related to loan defaults. I want to explore this relationship so need to convert to a numeric representation"
   ]
  },
  {
   "cell_type": "code",
   "execution_count": 14,
   "id": "245337e0",
   "metadata": {},
   "outputs": [
    {
     "data": {
      "text/plain": [
       "10    98364\n",
       "8     68002\n",
       "9     66788\n",
       "Name: DISBURSAL_MONTH, dtype: int64"
      ]
     },
     "execution_count": 14,
     "metadata": {},
     "output_type": "execute_result"
    }
   ],
   "source": [
    "loan_df['DISBURSAL_MONTH'] = loan_df['DISBURSAL_DATE'].dt.month\n",
    "loan_df['DISBURSAL_MONTH'].value_counts()"
   ]
  },
  {
   "cell_type": "markdown",
   "id": "68f4346d",
   "metadata": {},
   "source": [
    "As we can see, the distribution of loan disbursals is not even across all months.\n",
    "\n",
    "The DISBURSAL_DATE and DATE_OF_BIRTH can be dropped from the data"
   ]
  },
  {
   "cell_type": "code",
   "execution_count": 15,
   "id": "44ff9686",
   "metadata": {},
   "outputs": [],
   "source": [
    "#drop columns\n",
    "loan_df = loan_df.drop(['DISBURSAL_DATE', 'DATE_OF_BIRTH'], axis=1)"
   ]
  },
  {
   "cell_type": "markdown",
   "id": "38b3dc57",
   "metadata": {},
   "source": [
    "### Fix the Strings\n",
    "\n",
    "AVERAGE_ACCT_AGE and CREDIT_HISTORY_LENGTH were also strings but column names suggest they should be numeric.\n"
   ]
  },
  {
   "cell_type": "code",
   "execution_count": 16,
   "id": "4b4c992f",
   "metadata": {},
   "outputs": [
    {
     "data": {
      "text/html": [
       "<div>\n",
       "<style scoped>\n",
       "    .dataframe tbody tr th:only-of-type {\n",
       "        vertical-align: middle;\n",
       "    }\n",
       "\n",
       "    .dataframe tbody tr th {\n",
       "        vertical-align: top;\n",
       "    }\n",
       "\n",
       "    .dataframe thead th {\n",
       "        text-align: right;\n",
       "    }\n",
       "</style>\n",
       "<table border=\"1\" class=\"dataframe\">\n",
       "  <thead>\n",
       "    <tr style=\"text-align: right;\">\n",
       "      <th></th>\n",
       "      <th>CREDIT_HISTORY_LENGTH</th>\n",
       "      <th>AVERAGE_ACCT_AGE</th>\n",
       "    </tr>\n",
       "    <tr>\n",
       "      <th>UNIQUEID</th>\n",
       "      <th></th>\n",
       "      <th></th>\n",
       "    </tr>\n",
       "  </thead>\n",
       "  <tbody>\n",
       "    <tr>\n",
       "      <th>502175</th>\n",
       "      <td>0yrs 0mon</td>\n",
       "      <td>0yrs 0mon</td>\n",
       "    </tr>\n",
       "    <tr>\n",
       "      <th>576505</th>\n",
       "      <td>0yrs 0mon</td>\n",
       "      <td>0yrs 0mon</td>\n",
       "    </tr>\n",
       "    <tr>\n",
       "      <th>425426</th>\n",
       "      <td>9yrs 10mon</td>\n",
       "      <td>5yrs 1mon</td>\n",
       "    </tr>\n",
       "    <tr>\n",
       "      <th>559351</th>\n",
       "      <td>7yrs 0mon</td>\n",
       "      <td>2yrs 3mon</td>\n",
       "    </tr>\n",
       "    <tr>\n",
       "      <th>618367</th>\n",
       "      <td>2yrs 2mon</td>\n",
       "      <td>2yrs 2mon</td>\n",
       "    </tr>\n",
       "    <tr>\n",
       "      <th>574489</th>\n",
       "      <td>0yrs 0mon</td>\n",
       "      <td>0yrs 0mon</td>\n",
       "    </tr>\n",
       "    <tr>\n",
       "      <th>446813</th>\n",
       "      <td>0yrs 0mon</td>\n",
       "      <td>0yrs 0mon</td>\n",
       "    </tr>\n",
       "    <tr>\n",
       "      <th>500704</th>\n",
       "      <td>0yrs 9mon</td>\n",
       "      <td>0yrs 9mon</td>\n",
       "    </tr>\n",
       "    <tr>\n",
       "      <th>526528</th>\n",
       "      <td>10yrs 11mon</td>\n",
       "      <td>7yrs 6mon</td>\n",
       "    </tr>\n",
       "    <tr>\n",
       "      <th>483529</th>\n",
       "      <td>7yrs 7mon</td>\n",
       "      <td>1yrs 4mon</td>\n",
       "    </tr>\n",
       "  </tbody>\n",
       "</table>\n",
       "</div>"
      ],
      "text/plain": [
       "         CREDIT_HISTORY_LENGTH AVERAGE_ACCT_AGE\n",
       "UNIQUEID                                       \n",
       "502175               0yrs 0mon        0yrs 0mon\n",
       "576505               0yrs 0mon        0yrs 0mon\n",
       "425426              9yrs 10mon        5yrs 1mon\n",
       "559351               7yrs 0mon        2yrs 3mon\n",
       "618367               2yrs 2mon        2yrs 2mon\n",
       "574489               0yrs 0mon        0yrs 0mon\n",
       "446813               0yrs 0mon        0yrs 0mon\n",
       "500704               0yrs 9mon        0yrs 9mon\n",
       "526528             10yrs 11mon        7yrs 6mon\n",
       "483529               7yrs 7mon        1yrs 4mon"
      ]
     },
     "execution_count": 16,
     "metadata": {},
     "output_type": "execute_result"
    }
   ],
   "source": [
    "loan_df[['CREDIT_HISTORY_LENGTH', 'AVERAGE_ACCT_AGE']].sample(n=10)"
   ]
  },
  {
   "cell_type": "markdown",
   "id": "05249962",
   "metadata": {},
   "source": [
    "Both columns contain measures of time in the format \"0yrs 0mon\"\n",
    "\n",
    "This string representation is not useful for analysis or prediction so let's convert it into a number.\n",
    "\n",
    "The can both be converted into months for the information to be more helpful and stored in the dataframe.\n",
    "\n",
    "To do this, I will create 2 helper functions.\n",
    "\n",
    "The first is 'calc_months'. This helps us to convert the number of years to months."
   ]
  },
  {
   "cell_type": "code",
   "execution_count": 17,
   "id": "9b973496",
   "metadata": {},
   "outputs": [],
   "source": [
    "#function to help convert to months\n",
    "def calc_months(str_list):  \n",
    "    years = int(str_list[0])\n",
    "    months = int(str_list[1])\n",
    "\n",
    "    num_months = (years * 12) + months\n",
    "    return num_months"
   ]
  },
  {
   "cell_type": "markdown",
   "id": "6da81566",
   "metadata": {},
   "source": [
    "Before this function can be used, we need to extract the intergers in the string. The '\\d+' is a regular expression which finds intergers in a string.\n",
    "\n",
    "A new column will be created for the AVERAGE_ACCT_AGE and CREDIT_HISTORY_LENGTH that will have the number of months.\n",
    "\n",
    "We will then use the map function to apply a function which calculates the total number of months for each row in the data frame.\n",
    "This is where the second helper function comes in."
   ]
  },
  {
   "cell_type": "code",
   "execution_count": 18,
   "id": "84c1da33",
   "metadata": {},
   "outputs": [],
   "source": [
    "# function to create new columns\n",
    "def convert_str_to_months(col_name):\n",
    "    new_col = col_name + '_MONTHS'\n",
    "    loan_df[new_col] = loan_df[col_name].str.findall('\\d+')\n",
    "    loan_df[new_col] = loan_df[new_col].map(calc_months)"
   ]
  },
  {
   "cell_type": "code",
   "execution_count": 19,
   "id": "b6c50935",
   "metadata": {},
   "outputs": [
    {
     "data": {
      "text/html": [
       "<div>\n",
       "<style scoped>\n",
       "    .dataframe tbody tr th:only-of-type {\n",
       "        vertical-align: middle;\n",
       "    }\n",
       "\n",
       "    .dataframe tbody tr th {\n",
       "        vertical-align: top;\n",
       "    }\n",
       "\n",
       "    .dataframe thead th {\n",
       "        text-align: right;\n",
       "    }\n",
       "</style>\n",
       "<table border=\"1\" class=\"dataframe\">\n",
       "  <thead>\n",
       "    <tr style=\"text-align: right;\">\n",
       "      <th></th>\n",
       "      <th>CREDIT_HISTORY_LENGTH_MONTHS</th>\n",
       "      <th>CREDIT_HISTORY_LENGTH</th>\n",
       "      <th>AVERAGE_ACCT_AGE_MONTHS</th>\n",
       "      <th>AVERAGE_ACCT_AGE</th>\n",
       "    </tr>\n",
       "    <tr>\n",
       "      <th>UNIQUEID</th>\n",
       "      <th></th>\n",
       "      <th></th>\n",
       "      <th></th>\n",
       "      <th></th>\n",
       "    </tr>\n",
       "  </thead>\n",
       "  <tbody>\n",
       "    <tr>\n",
       "      <th>457752</th>\n",
       "      <td>9</td>\n",
       "      <td>0yrs 9mon</td>\n",
       "      <td>9</td>\n",
       "      <td>0yrs 9mon</td>\n",
       "    </tr>\n",
       "    <tr>\n",
       "      <th>570376</th>\n",
       "      <td>0</td>\n",
       "      <td>0yrs 0mon</td>\n",
       "      <td>0</td>\n",
       "      <td>0yrs 0mon</td>\n",
       "    </tr>\n",
       "    <tr>\n",
       "      <th>572853</th>\n",
       "      <td>0</td>\n",
       "      <td>0yrs 0mon</td>\n",
       "      <td>0</td>\n",
       "      <td>0yrs 0mon</td>\n",
       "    </tr>\n",
       "    <tr>\n",
       "      <th>436773</th>\n",
       "      <td>23</td>\n",
       "      <td>1yrs 11mon</td>\n",
       "      <td>23</td>\n",
       "      <td>1yrs 11mon</td>\n",
       "    </tr>\n",
       "    <tr>\n",
       "      <th>552476</th>\n",
       "      <td>0</td>\n",
       "      <td>0yrs 0mon</td>\n",
       "      <td>0</td>\n",
       "      <td>0yrs 0mon</td>\n",
       "    </tr>\n",
       "  </tbody>\n",
       "</table>\n",
       "</div>"
      ],
      "text/plain": [
       "          CREDIT_HISTORY_LENGTH_MONTHS CREDIT_HISTORY_LENGTH  \\\n",
       "UNIQUEID                                                       \n",
       "457752                               9             0yrs 9mon   \n",
       "570376                               0             0yrs 0mon   \n",
       "572853                               0             0yrs 0mon   \n",
       "436773                              23            1yrs 11mon   \n",
       "552476                               0             0yrs 0mon   \n",
       "\n",
       "          AVERAGE_ACCT_AGE_MONTHS AVERAGE_ACCT_AGE  \n",
       "UNIQUEID                                            \n",
       "457752                          9        0yrs 9mon  \n",
       "570376                          0        0yrs 0mon  \n",
       "572853                          0        0yrs 0mon  \n",
       "436773                         23       1yrs 11mon  \n",
       "552476                          0        0yrs 0mon  "
      ]
     },
     "execution_count": 19,
     "metadata": {},
     "output_type": "execute_result"
    }
   ],
   "source": [
    "#The two new columns will be created using the helper functions and compared\n",
    "\n",
    "convert_str_to_months('CREDIT_HISTORY_LENGTH')\n",
    "convert_str_to_months('AVERAGE_ACCT_AGE')\n",
    "\n",
    "loan_df[['CREDIT_HISTORY_LENGTH_MONTHS', 'CREDIT_HISTORY_LENGTH','AVERAGE_ACCT_AGE_MONTHS','AVERAGE_ACCT_AGE']].sample(n=5)"
   ]
  },
  {
   "cell_type": "markdown",
   "id": "871ecdeb",
   "metadata": {},
   "source": [
    "Now, we can drop the columns that are no longer needed."
   ]
  },
  {
   "cell_type": "code",
   "execution_count": 20,
   "id": "fb5c74c7",
   "metadata": {},
   "outputs": [],
   "source": [
    "loan_df = loan_df.drop(['AVERAGE_ACCT_AGE', 'CREDIT_HISTORY_LENGTH'], axis=1)"
   ]
  },
  {
   "cell_type": "markdown",
   "id": "1aad97e9",
   "metadata": {},
   "source": [
    "### Exploratory Data Analysis\n"
   ]
  },
  {
   "cell_type": "code",
   "execution_count": 21,
   "id": "a45aaed2",
   "metadata": {
    "scrolled": true
   },
   "outputs": [
    {
     "name": "stdout",
     "output_type": "stream",
     "text": [
      "<class 'pandas.core.frame.DataFrame'>\n",
      "Int64Index: 233154 entries, 420825 to 630213\n",
      "Data columns (total 40 columns):\n",
      " #   Column                               Non-Null Count   Dtype  \n",
      "---  ------                               --------------   -----  \n",
      " 0   DISBURSED_AMOUNT                     233154 non-null  int64  \n",
      " 1   ASSET_COST                           233154 non-null  int64  \n",
      " 2   LTV                                  233154 non-null  float64\n",
      " 3   BRANCH_ID                            233154 non-null  int64  \n",
      " 4   SUPPLIER_ID                          233154 non-null  int64  \n",
      " 5   MANUFACTURER_ID                      233154 non-null  int64  \n",
      " 6   CURRENT_PINCODE_ID                   233154 non-null  int64  \n",
      " 7   EMPLOYMENT_TYPE                      233154 non-null  object \n",
      " 8   STATE_ID                             233154 non-null  int64  \n",
      " 9   EMPLOYEE_CODE_ID                     233154 non-null  int64  \n",
      " 10  MOBILENO_AVL_FLAG                    233154 non-null  int64  \n",
      " 11  AADHAR_FLAG                          233154 non-null  int64  \n",
      " 12  PAN_FLAG                             233154 non-null  int64  \n",
      " 13  VOTERID_FLAG                         233154 non-null  int64  \n",
      " 14  DRIVING_FLAG                         233154 non-null  int64  \n",
      " 15  PASSPORT_FLAG                        233154 non-null  int64  \n",
      " 16  PERFORM_CNS_SCORE                    233154 non-null  int64  \n",
      " 17  PERFORM_CNS_SCORE_DESCRIPTION        233154 non-null  object \n",
      " 18  PRI_NO_OF_ACCTS                      233154 non-null  int64  \n",
      " 19  PRI_ACTIVE_ACCTS                     233154 non-null  int64  \n",
      " 20  PRI_OVERDUE_ACCTS                    233154 non-null  int64  \n",
      " 21  PRI_CURRENT_BALANCE                  233154 non-null  int64  \n",
      " 22  PRI_SANCTIONED_AMOUNT                233154 non-null  int64  \n",
      " 23  PRI_DISBURSED_AMOUNT                 233154 non-null  int64  \n",
      " 24  SEC_NO_OF_ACCTS                      233154 non-null  int64  \n",
      " 25  SEC_ACTIVE_ACCTS                     233154 non-null  int64  \n",
      " 26  SEC_OVERDUE_ACCTS                    233154 non-null  int64  \n",
      " 27  SEC_CURRENT_BALANCE                  233154 non-null  int64  \n",
      " 28  SEC_SANCTIONED_AMOUNT                233154 non-null  int64  \n",
      " 29  SEC_DISBURSED_AMOUNT                 233154 non-null  int64  \n",
      " 30  PRIMARY_INSTAL_AMT                   233154 non-null  int64  \n",
      " 31  SEC_INSTAL_AMT                       233154 non-null  int64  \n",
      " 32  NEW_ACCTS_IN_LAST_SIX_MONTHS         233154 non-null  int64  \n",
      " 33  DELINQUENT_ACCTS_IN_LAST_SIX_MONTHS  233154 non-null  int64  \n",
      " 34  NO_OF_INQUIRIES                      233154 non-null  int64  \n",
      " 35  LOAN_DEFAULT                         233154 non-null  int64  \n",
      " 36  AGE                                  233154 non-null  int64  \n",
      " 37  DISBURSAL_MONTH                      233154 non-null  int64  \n",
      " 38  CREDIT_HISTORY_LENGTH_MONTHS         233154 non-null  int64  \n",
      " 39  AVERAGE_ACCT_AGE_MONTHS              233154 non-null  int64  \n",
      "dtypes: float64(1), int64(37), object(2)\n",
      "memory usage: 72.9+ MB\n"
     ]
    }
   ],
   "source": [
    "loan_df.info()"
   ]
  },
  {
   "cell_type": "code",
   "execution_count": 22,
   "id": "57b92099",
   "metadata": {},
   "outputs": [
    {
     "data": {
      "text/plain": [
       "DISBURSED_AMOUNT                       24565\n",
       "ASSET_COST                             46252\n",
       "LTV                                     6579\n",
       "BRANCH_ID                                 82\n",
       "SUPPLIER_ID                             2953\n",
       "MANUFACTURER_ID                           11\n",
       "CURRENT_PINCODE_ID                      6698\n",
       "EMPLOYMENT_TYPE                            3\n",
       "STATE_ID                                  22\n",
       "EMPLOYEE_CODE_ID                        3270\n",
       "MOBILENO_AVL_FLAG                          1\n",
       "AADHAR_FLAG                                2\n",
       "PAN_FLAG                                   2\n",
       "VOTERID_FLAG                               2\n",
       "DRIVING_FLAG                               2\n",
       "PASSPORT_FLAG                              2\n",
       "PERFORM_CNS_SCORE                        573\n",
       "PERFORM_CNS_SCORE_DESCRIPTION             20\n",
       "PRI_NO_OF_ACCTS                          108\n",
       "PRI_ACTIVE_ACCTS                          40\n",
       "PRI_OVERDUE_ACCTS                         22\n",
       "PRI_CURRENT_BALANCE                    71341\n",
       "PRI_SANCTIONED_AMOUNT                  44390\n",
       "PRI_DISBURSED_AMOUNT                   47909\n",
       "SEC_NO_OF_ACCTS                           37\n",
       "SEC_ACTIVE_ACCTS                          23\n",
       "SEC_OVERDUE_ACCTS                          9\n",
       "SEC_CURRENT_BALANCE                     3246\n",
       "SEC_SANCTIONED_AMOUNT                   2223\n",
       "SEC_DISBURSED_AMOUNT                    2553\n",
       "PRIMARY_INSTAL_AMT                     28067\n",
       "SEC_INSTAL_AMT                          1918\n",
       "NEW_ACCTS_IN_LAST_SIX_MONTHS              26\n",
       "DELINQUENT_ACCTS_IN_LAST_SIX_MONTHS       14\n",
       "NO_OF_INQUIRIES                           25\n",
       "LOAN_DEFAULT                               2\n",
       "AGE                                       48\n",
       "DISBURSAL_MONTH                            3\n",
       "CREDIT_HISTORY_LENGTH_MONTHS             294\n",
       "AVERAGE_ACCT_AGE_MONTHS                  192\n",
       "dtype: int64"
      ]
     },
     "execution_count": 22,
     "metadata": {},
     "output_type": "execute_result"
    }
   ],
   "source": [
    "#investigate unique values\n",
    "loan_df.nunique()"
   ]
  },
  {
   "cell_type": "markdown",
   "id": "36bff277",
   "metadata": {},
   "source": [
    "- MOBILE_AVL_FLAG has only one unique value! \n",
    "\n",
    "since every row contains the same value, the column can be dropped."
   ]
  },
  {
   "cell_type": "code",
   "execution_count": 23,
   "id": "6432139b",
   "metadata": {},
   "outputs": [],
   "source": [
    "loan_df = loan_df.drop(['MOBILENO_AVL_FLAG'], axis = 1)"
   ]
  },
  {
   "cell_type": "markdown",
   "id": "99f8cfb5",
   "metadata": {},
   "source": [
    "We can investigate the IDs further."
   ]
  },
  {
   "cell_type": "code",
   "execution_count": 24,
   "id": "46a59667",
   "metadata": {},
   "outputs": [
    {
     "data": {
      "text/html": [
       "<div>\n",
       "<style scoped>\n",
       "    .dataframe tbody tr th:only-of-type {\n",
       "        vertical-align: middle;\n",
       "    }\n",
       "\n",
       "    .dataframe tbody tr th {\n",
       "        vertical-align: top;\n",
       "    }\n",
       "\n",
       "    .dataframe thead th {\n",
       "        text-align: right;\n",
       "    }\n",
       "</style>\n",
       "<table border=\"1\" class=\"dataframe\">\n",
       "  <thead>\n",
       "    <tr style=\"text-align: right;\">\n",
       "      <th></th>\n",
       "      <th>BRANCH_ID</th>\n",
       "      <th>SUPPLIER_ID</th>\n",
       "      <th>MANUFACTURER_ID</th>\n",
       "      <th>CURRENT_PINCODE_ID</th>\n",
       "      <th>STATE_ID</th>\n",
       "      <th>EMPLOYEE_CODE_ID</th>\n",
       "    </tr>\n",
       "    <tr>\n",
       "      <th>UNIQUEID</th>\n",
       "      <th></th>\n",
       "      <th></th>\n",
       "      <th></th>\n",
       "      <th></th>\n",
       "      <th></th>\n",
       "      <th></th>\n",
       "    </tr>\n",
       "  </thead>\n",
       "  <tbody>\n",
       "    <tr>\n",
       "      <th>438766</th>\n",
       "      <td>136</td>\n",
       "      <td>16594</td>\n",
       "      <td>86</td>\n",
       "      <td>3724</td>\n",
       "      <td>8</td>\n",
       "      <td>984</td>\n",
       "    </tr>\n",
       "    <tr>\n",
       "      <th>581255</th>\n",
       "      <td>67</td>\n",
       "      <td>21308</td>\n",
       "      <td>86</td>\n",
       "      <td>1508</td>\n",
       "      <td>6</td>\n",
       "      <td>914</td>\n",
       "    </tr>\n",
       "    <tr>\n",
       "      <th>443797</th>\n",
       "      <td>61</td>\n",
       "      <td>22778</td>\n",
       "      <td>86</td>\n",
       "      <td>1325</td>\n",
       "      <td>6</td>\n",
       "      <td>2033</td>\n",
       "    </tr>\n",
       "    <tr>\n",
       "      <th>449901</th>\n",
       "      <td>152</td>\n",
       "      <td>14574</td>\n",
       "      <td>51</td>\n",
       "      <td>5137</td>\n",
       "      <td>3</td>\n",
       "      <td>1022</td>\n",
       "    </tr>\n",
       "    <tr>\n",
       "      <th>621793</th>\n",
       "      <td>165</td>\n",
       "      <td>24685</td>\n",
       "      <td>86</td>\n",
       "      <td>6513</td>\n",
       "      <td>5</td>\n",
       "      <td>1466</td>\n",
       "    </tr>\n",
       "    <tr>\n",
       "      <th>444495</th>\n",
       "      <td>2</td>\n",
       "      <td>24282</td>\n",
       "      <td>86</td>\n",
       "      <td>1733</td>\n",
       "      <td>4</td>\n",
       "      <td>2655</td>\n",
       "    </tr>\n",
       "    <tr>\n",
       "      <th>420200</th>\n",
       "      <td>16</td>\n",
       "      <td>21124</td>\n",
       "      <td>86</td>\n",
       "      <td>2959</td>\n",
       "      <td>14</td>\n",
       "      <td>430</td>\n",
       "    </tr>\n",
       "    <tr>\n",
       "      <th>606670</th>\n",
       "      <td>70</td>\n",
       "      <td>16764</td>\n",
       "      <td>86</td>\n",
       "      <td>2414</td>\n",
       "      <td>4</td>\n",
       "      <td>2570</td>\n",
       "    </tr>\n",
       "    <tr>\n",
       "      <th>526505</th>\n",
       "      <td>67</td>\n",
       "      <td>17635</td>\n",
       "      <td>49</td>\n",
       "      <td>1490</td>\n",
       "      <td>6</td>\n",
       "      <td>914</td>\n",
       "    </tr>\n",
       "    <tr>\n",
       "      <th>647920</th>\n",
       "      <td>248</td>\n",
       "      <td>14791</td>\n",
       "      <td>86</td>\n",
       "      <td>1787</td>\n",
       "      <td>4</td>\n",
       "      <td>166</td>\n",
       "    </tr>\n",
       "  </tbody>\n",
       "</table>\n",
       "</div>"
      ],
      "text/plain": [
       "          BRANCH_ID  SUPPLIER_ID  MANUFACTURER_ID  CURRENT_PINCODE_ID  \\\n",
       "UNIQUEID                                                                \n",
       "438766          136        16594               86                3724   \n",
       "581255           67        21308               86                1508   \n",
       "443797           61        22778               86                1325   \n",
       "449901          152        14574               51                5137   \n",
       "621793          165        24685               86                6513   \n",
       "444495            2        24282               86                1733   \n",
       "420200           16        21124               86                2959   \n",
       "606670           70        16764               86                2414   \n",
       "526505           67        17635               49                1490   \n",
       "647920          248        14791               86                1787   \n",
       "\n",
       "          STATE_ID  EMPLOYEE_CODE_ID  \n",
       "UNIQUEID                              \n",
       "438766           8               984  \n",
       "581255           6               914  \n",
       "443797           6              2033  \n",
       "449901           3              1022  \n",
       "621793           5              1466  \n",
       "444495           4              2655  \n",
       "420200          14               430  \n",
       "606670           4              2570  \n",
       "526505           6               914  \n",
       "647920           4               166  "
      ]
     },
     "execution_count": 24,
     "metadata": {},
     "output_type": "execute_result"
    }
   ],
   "source": [
    "#Sample the Id columns\n",
    "loan_df[['BRANCH_ID','SUPPLIER_ID','MANUFACTURER_ID','CURRENT_PINCODE_ID','STATE_ID','EMPLOYEE_CODE_ID']].sample(10)"
   ]
  },
  {
   "cell_type": "markdown",
   "id": "8320ee60",
   "metadata": {},
   "source": [
    "These six fields contain numeric data, but really they represent categorical, underordered information. For example, we cannot say things like manufacturer id 1 < 2, or state id 1 = 3 - 2. \n",
    "\n",
    "ID fields with large numbers of unique values will introduce complexity into our predictive model"
   ]
  },
  {
   "cell_type": "code",
   "execution_count": 25,
   "id": "fcac55e5",
   "metadata": {},
   "outputs": [],
   "source": [
    "#drop SUPPLIER_ID, CURRENT_PINCODE_ID, EMPLOYEE_CODE_ID, BRANCH_ID\n",
    "loan_df=loan_df.drop(['SUPPLIER_ID','CURRENT_PINCODE_ID','EMPLOYEE_CODE_ID','BRANCH_ID'], axis=1)"
   ]
  },
  {
   "cell_type": "markdown",
   "id": "27103549",
   "metadata": {},
   "source": [
    "### Categorical Variables\n",
    "\n",
    "I will further explore the relationship between the categorical variables. I will be creating a function called 'explore_categorical' that will group the categorical variables according to the loan default count.\n",
    "A plot will then visualize the groupings.\n"
   ]
  },
  {
   "cell_type": "code",
   "execution_count": 26,
   "id": "b73bc05e",
   "metadata": {},
   "outputs": [],
   "source": [
    "def explore_categorical(col_name):   \n",
    "    print(\"{0} Summary\".format(col_name))\n",
    "    print(\"\\n\")\n",
    "\n",
    "    print(\"{0} Counts\".format(col_name))\n",
    "    print(loan_df[col_name].value_counts())\n",
    "    print(\"\\n\")\n",
    "\n",
    "    print(\"{0} Ratio\".format(col_name))\n",
    "    print(loan_df[col_name].value_counts(normalize=True))\n",
    "    print(\"\\n\")\n",
    "\n",
    "    print(\"{0} Default Counts\".format(col_name))\n",
    "    print(loan_df.groupby(col_name)['LOAN_DEFAULT'].value_counts().unstack(level=-1))\n",
    "    print(\"\\n\")\n",
    "\n",
    "    print(\"{0} Default Ratio\".format(col_name))\n",
    "    print(loan_df.groupby(col_name)['LOAN_DEFAULT'].value_counts(normalize=True).unstack(level=-1))\n",
    "    print(\"\\n\")\n",
    "\n",
    "    sns.catplot(data=loan_df,kind='count',x=col_name,hue='LOAN_DEFAULT')\n",
    "    plt.show()"
   ]
  },
  {
   "cell_type": "markdown",
   "id": "fdae95e6",
   "metadata": {},
   "source": [
    "Let us explore the Manufacturer_ID and disbursal_month"
   ]
  },
  {
   "cell_type": "code",
   "execution_count": 27,
   "id": "9c0e5cbb",
   "metadata": {},
   "outputs": [
    {
     "name": "stdout",
     "output_type": "stream",
     "text": [
      "MANUFACTURER_ID Summary\n",
      "\n",
      "\n",
      "MANUFACTURER_ID Counts\n",
      "86     109534\n",
      "45      56626\n",
      "51      27204\n",
      "48      16710\n",
      "49      10220\n",
      "120      9658\n",
      "67       2405\n",
      "145       778\n",
      "153        12\n",
      "152         6\n",
      "156         1\n",
      "Name: MANUFACTURER_ID, dtype: int64\n",
      "\n",
      "\n",
      "MANUFACTURER_ID Ratio\n",
      "86     0.469792\n",
      "45     0.242870\n",
      "51     0.116678\n",
      "48     0.071669\n",
      "49     0.043834\n",
      "120    0.041423\n",
      "67     0.010315\n",
      "145    0.003337\n",
      "153    0.000051\n",
      "152    0.000026\n",
      "156    0.000004\n",
      "Name: MANUFACTURER_ID, dtype: float64\n",
      "\n",
      "\n",
      "MANUFACTURER_ID Default Counts\n",
      "LOAN_DEFAULT           0        1\n",
      "MANUFACTURER_ID                  \n",
      "45               43687.0  12939.0\n",
      "48               12156.0   4554.0\n",
      "49                7984.0   2236.0\n",
      "51               21547.0   5657.0\n",
      "67                1882.0    523.0\n",
      "86               87124.0  22410.0\n",
      "120               7526.0   2132.0\n",
      "145                622.0    156.0\n",
      "152                  6.0      NaN\n",
      "153                  8.0      4.0\n",
      "156                  1.0      NaN\n",
      "\n",
      "\n",
      "MANUFACTURER_ID Default Ratio\n",
      "LOAN_DEFAULT            0         1\n",
      "MANUFACTURER_ID                    \n",
      "45               0.771501  0.228499\n",
      "48               0.727469  0.272531\n",
      "49               0.781213  0.218787\n",
      "51               0.792053  0.207947\n",
      "67               0.782536  0.217464\n",
      "86               0.795406  0.204594\n",
      "120              0.779250  0.220750\n",
      "145              0.799486  0.200514\n",
      "152              1.000000       NaN\n",
      "153              0.666667  0.333333\n",
      "156              1.000000       NaN\n",
      "\n",
      "\n"
     ]
    },
    {
     "data": {
      "image/png": "[encoded data removed]",
      "text/plain": [
       "<Figure size 616.361x500 with 1 Axes>"
      ]
     },
     "metadata": {},
     "output_type": "display_data"
    }
   ],
   "source": [
    "explore_categorical('MANUFACTURER_ID')"
   ]
  },
  {
   "cell_type": "code",
   "execution_count": 28,
   "id": "d1afc5ae",
   "metadata": {},
   "outputs": [
    {
     "name": "stdout",
     "output_type": "stream",
     "text": [
      "DISBURSAL_MONTH Summary\n",
      "\n",
      "\n",
      "DISBURSAL_MONTH Counts\n",
      "10    98364\n",
      "8     68002\n",
      "9     66788\n",
      "Name: DISBURSAL_MONTH, dtype: int64\n",
      "\n",
      "\n",
      "DISBURSAL_MONTH Ratio\n",
      "10    0.421884\n",
      "8     0.291661\n",
      "9     0.286454\n",
      "Name: DISBURSAL_MONTH, dtype: float64\n",
      "\n",
      "\n",
      "DISBURSAL_MONTH Default Counts\n",
      "LOAN_DEFAULT         0      1\n",
      "DISBURSAL_MONTH              \n",
      "8                53336  14666\n",
      "9                53973  12815\n",
      "10               75234  23130\n",
      "\n",
      "\n",
      "DISBURSAL_MONTH Default Ratio\n",
      "LOAN_DEFAULT            0         1\n",
      "DISBURSAL_MONTH                    \n",
      "8                0.784330  0.215670\n",
      "9                0.808124  0.191876\n",
      "10               0.764853  0.235147\n",
      "\n",
      "\n"
     ]
    },
    {
     "data": {
      "image/png": "[encoded data removed]",
      "text/plain": [
       "<Figure size 616.361x500 with 1 Axes>"
      ]
     },
     "metadata": {},
     "output_type": "display_data"
    }
   ],
   "source": [
    "explore_categorical('DISBURSAL_MONTH')"
   ]
  },
  {
   "cell_type": "markdown",
   "id": "32d7059c",
   "metadata": {},
   "source": [
    "- Looks like loans for some manufacturers default at higher rates than others!\n",
    "- Cars from manufacturer 48 defaulted most frequently. *With the exception of 153 which only had 12 total loans which is not enough data to give us solid insight*\n",
    "- The vast majority of loans were disbursed in August, September and October \n",
    "- Loans disbursed in October had the highest rate of default ~24%"
   ]
  },
  {
   "cell_type": "markdown",
   "id": "dff5331c",
   "metadata": {},
   "source": [
    "### Continuous Variables\n",
    "Like the categorical variables, we can also explore the continuous variables using a function.\n",
    "\n",
    "Firstly, we can look at the mean, median, IQR, standard deviation and min/max to get an idea of the range of data and how it is distributed.\n",
    "\n",
    "These statistical summaries can then be visualized wiith a boxplot and distplot function.\n",
    "\n",
    "We can also look deeper by exploring the relationship between the continuous variables and the target variable.\n",
    "\n",
    "as an example, I will explore 'AGE' and 'DISBURSED_AMOUNT'"
   ]
  },
  {
   "cell_type": "code",
   "execution_count": 29,
   "id": "0e745b83",
   "metadata": {},
   "outputs": [],
   "source": [
    "def explore_continuous(col_name):\n",
    "    #print statistical summary\n",
    "    print(\"{0} Summary\".format(col_name))\n",
    "    print(\"\\n\")\n",
    "    print(loan_df[col_name].describe())\n",
    "    print(\"\\n\")\n",
    "\n",
    "    #Look at boxplot\n",
    "    sns.boxplot(x=col_name, data=loan_df)\n",
    "    plt.show()\n",
    "\n",
    "    #Look at the distribution\n",
    "    sns.distplot(loan_df[col_name], hist=False)\n",
    "    plt.show()\n",
    "\n",
    "    #Now lets look deeper by grouping with the target variable \n",
    "    print(\"{0} Grouped Summary\".format(col_name))\n",
    "    print(\"\\n\")\n",
    "    print(loan_df.groupby('LOAN_DEFAULT')[col_name].describe())\n",
    "\n",
    "    #look at grouped boxplot \n",
    "    sns.boxplot(x=col_name, y='LOAN_DEFAULT', data=loan_df, orient=\"h\")\n",
    "    plt.show()"
   ]
  },
  {
   "cell_type": "code",
   "execution_count": 30,
   "id": "01ed9649",
   "metadata": {},
   "outputs": [
    {
     "name": "stdout",
     "output_type": "stream",
     "text": [
      "AGE Summary\n",
      "\n",
      "\n",
      "count    233154.000000\n",
      "mean         33.938504\n",
      "std           9.818802\n",
      "min          18.000000\n",
      "25%          26.000000\n",
      "50%          32.000000\n",
      "75%          41.000000\n",
      "max          69.000000\n",
      "Name: AGE, dtype: float64\n",
      "\n",
      "\n"
     ]
    },
    {
     "data": {
      "image/png": "[encoded data removed]",
      "text/plain": [
       "<Figure size 640x480 with 1 Axes>"
      ]
     },
     "metadata": {},
     "output_type": "display_data"
    },
    {
     "name": "stderr",
     "output_type": "stream",
     "text": [
      "C:\\Users\\onwoc\\anaconda\\lib\\site-packages\\seaborn\\distributions.py:2619: FutureWarning: `distplot` is a deprecated function and will be removed in a future version. Please adapt your code to use either `displot` (a figure-level function with similar flexibility) or `kdeplot` (an axes-level function for kernel density plots).\n",
      "  warnings.warn(msg, FutureWarning)\n"
     ]
    },
    {
     "data": {
      "image/png": "[encoded data removed]",
      "text/plain": [
       "<Figure size 640x480 with 1 Axes>"
      ]
     },
     "metadata": {},
     "output_type": "display_data"
    },
    {
     "name": "stdout",
     "output_type": "stream",
     "text": [
      "AGE Grouped Summary\n",
      "\n",
      "\n",
      "                 count       mean       std   min   25%   50%   75%   max\n",
      "LOAN_DEFAULT                                                             \n",
      "0             182543.0  34.127307  9.850548  18.0  26.0  32.0  41.0  69.0\n",
      "1              50611.0  33.257533  9.672964  18.0  25.0  31.0  40.0  64.0\n"
     ]
    },
    {
     "data": {
      "image/png": "[encoded data removed]",
      "text/plain": [
       "<Figure size 640x480 with 1 Axes>"
      ]
     },
     "metadata": {},
     "output_type": "display_data"
    }
   ],
   "source": [
    "explore_continuous('AGE')"
   ]
  },
  {
   "cell_type": "code",
   "execution_count": 31,
   "id": "32b42182",
   "metadata": {},
   "outputs": [
    {
     "name": "stdout",
     "output_type": "stream",
     "text": [
      "DISBURSED_AMOUNT Summary\n",
      "\n",
      "\n",
      "count    233154.000000\n",
      "mean      54356.993528\n",
      "std       12971.314171\n",
      "min       13320.000000\n",
      "25%       47145.000000\n",
      "50%       53803.000000\n",
      "75%       60413.000000\n",
      "max      990572.000000\n",
      "Name: DISBURSED_AMOUNT, dtype: float64\n",
      "\n",
      "\n"
     ]
    },
    {
     "data": {
      "image/png": "[encoded data removed]",
      "text/plain": [
       "<Figure size 640x480 with 1 Axes>"
      ]
     },
     "metadata": {},
     "output_type": "display_data"
    },
    {
     "name": "stderr",
     "output_type": "stream",
     "text": [
      "C:\\Users\\onwoc\\anaconda\\lib\\site-packages\\seaborn\\distributions.py:2619: FutureWarning: `distplot` is a deprecated function and will be removed in a future version. Please adapt your code to use either `displot` (a figure-level function with similar flexibility) or `kdeplot` (an axes-level function for kernel density plots).\n",
      "  warnings.warn(msg, FutureWarning)\n"
     ]
    },
    {
     "data": {
      "image/png": "[encoded data removed]",
      "text/plain": [
       "<Figure size 640x480 with 1 Axes>"
      ]
     },
     "metadata": {},
     "output_type": "display_data"
    },
    {
     "name": "stdout",
     "output_type": "stream",
     "text": [
      "DISBURSED_AMOUNT Grouped Summary\n",
      "\n",
      "\n",
      "                 count          mean           std      min      25%      50%  \\\n",
      "LOAN_DEFAULT                                                                    \n",
      "0             182543.0  53826.471111  13140.699007  13320.0  46369.0  53303.0   \n",
      "1              50611.0  56270.473869  12150.255527  13369.0  49303.0  55459.0   \n",
      "\n",
      "                  75%       max  \n",
      "LOAN_DEFAULT                     \n",
      "0             59947.0  990572.0  \n",
      "1             61947.0  191392.0  \n"
     ]
    },
    {
     "data": {
      "image/png": "[encoded data removed]",
      "text/plain": [
       "<Figure size 640x480 with 1 Axes>"
      ]
     },
     "metadata": {},
     "output_type": "display_data"
    }
   ],
   "source": [
    "explore_continuous('DISBURSED_AMOUNT')"
   ]
  },
  {
   "cell_type": "markdown",
   "id": "b2964c21",
   "metadata": {},
   "source": [
    "Things to note \n",
    "- The distribution of AGE within the group of people who defaulted was marginally younger! \n",
    "- There are some huge outliers in the 'DISBURSED_AMOUNT' column.\n",
    "- Generally, the disbursed amount for defaulted loans was larger, or at least the distribution ranges over larger values."
   ]
  },
  {
   "cell_type": "markdown",
   "id": "bb8060f0",
   "metadata": {},
   "source": [
    "### Feature Engineering\n",
    "It can be seen from exploring the 'DISBURSED_AMOUNT' that there are extreme outliers but further investigation proves it to be resonable given the data is from INDIA.\n",
    "\n",
    "One way we can keep extreme values without them skewing the data is through binning\n",
    "- Creating categorical groups from continuous variables \n",
    "- These bins are used to categorize our rows based on their disbursed amounts\n"
   ]
  },
  {
   "cell_type": "code",
   "execution_count": 32,
   "id": "e34b6b1d",
   "metadata": {},
   "outputs": [],
   "source": [
    "disbursed_buckets = [13000, 30000, 45000, 60000, 75000, 150000, 1000000]\n",
    "disbursed_labels = ['13k - 30k', '30k - 45k', '45k - 60k', '60k - 75k', '75k - 150k', '150k - 1m']\n",
    "\n",
    "loan_df['DISBURSED_CAT'] = pd.cut(loan_df['DISBURSED_AMOUNT'], disbursed_buckets, labels=disbursed_labels)"
   ]
  },
  {
   "cell_type": "code",
   "execution_count": 33,
   "id": "5dbc44da",
   "metadata": {},
   "outputs": [
    {
     "name": "stdout",
     "output_type": "stream",
     "text": [
      "DISBURSED_CAT Summary\n",
      "\n",
      "\n",
      "DISBURSED_CAT Counts\n",
      "45k - 60k     126904\n",
      "60k - 75k      49824\n",
      "30k - 45k      40626\n",
      "75k - 150k     10871\n",
      "13k - 30k       4865\n",
      "150k - 1m         64\n",
      "Name: DISBURSED_CAT, dtype: int64\n",
      "\n",
      "\n",
      "DISBURSED_CAT Ratio\n",
      "45k - 60k     0.544293\n",
      "60k - 75k     0.213696\n",
      "30k - 45k     0.174245\n",
      "75k - 150k    0.046626\n",
      "13k - 30k     0.020866\n",
      "150k - 1m     0.000274\n",
      "Name: DISBURSED_CAT, dtype: float64\n",
      "\n",
      "\n",
      "DISBURSED_CAT Default Counts\n",
      "LOAN_DEFAULT       0      1\n",
      "DISBURSED_CAT              \n",
      "13k - 30k       4207    658\n",
      "30k - 45k      34323   6303\n",
      "45k - 60k      98830  28074\n",
      "60k - 75k      37056  12768\n",
      "75k - 150k      8070   2801\n",
      "150k - 1m         57      7\n",
      "\n",
      "\n",
      "DISBURSED_CAT Default Ratio\n",
      "LOAN_DEFAULT          0         1\n",
      "DISBURSED_CAT                    \n",
      "13k - 30k      0.864748  0.135252\n",
      "30k - 45k      0.844853  0.155147\n",
      "45k - 60k      0.778778  0.221222\n",
      "60k - 75k      0.743738  0.256262\n",
      "75k - 150k     0.742342  0.257658\n",
      "150k - 1m      0.890625  0.109375\n",
      "\n",
      "\n"
     ]
    },
    {
     "data": {
      "image/png": "[encoded data removed]",
      "text/plain": [
       "<Figure size 616.361x500 with 1 Axes>"
      ]
     },
     "metadata": {},
     "output_type": "display_data"
    }
   ],
   "source": [
    "explore_categorical('DISBURSED_CAT')"
   ]
  },
  {
   "cell_type": "markdown",
   "id": "b78612b6",
   "metadata": {},
   "source": [
    "Notice that the vast majority of loans fall in the '45k - 60k' bucket. \n",
    "\n",
    "Also, the higher the loan amount, the more likely it was to default except for loans in the very largest category"
   ]
  },
  {
   "cell_type": "markdown",
   "id": "bcd115ed",
   "metadata": {},
   "source": [
    "### Combine Features\n",
    "\n",
    "lets create a DISBURSAL_DIFFERENCE column which will be the difference between the ASSET_COST and the DISBURSED_AMOUNT"
   ]
  },
  {
   "cell_type": "code",
   "execution_count": 34,
   "id": "28d94cf9",
   "metadata": {},
   "outputs": [
    {
     "data": {
      "text/html": [
       "<div>\n",
       "<style scoped>\n",
       "    .dataframe tbody tr th:only-of-type {\n",
       "        vertical-align: middle;\n",
       "    }\n",
       "\n",
       "    .dataframe tbody tr th {\n",
       "        vertical-align: top;\n",
       "    }\n",
       "\n",
       "    .dataframe thead th {\n",
       "        text-align: right;\n",
       "    }\n",
       "</style>\n",
       "<table border=\"1\" class=\"dataframe\">\n",
       "  <thead>\n",
       "    <tr style=\"text-align: right;\">\n",
       "      <th></th>\n",
       "      <th>DISBURSAL_DIFFERENCE</th>\n",
       "      <th>ASSET_COST</th>\n",
       "      <th>DISBURSED_AMOUNT</th>\n",
       "    </tr>\n",
       "    <tr>\n",
       "      <th>UNIQUEID</th>\n",
       "      <th></th>\n",
       "      <th></th>\n",
       "      <th></th>\n",
       "    </tr>\n",
       "  </thead>\n",
       "  <tbody>\n",
       "    <tr>\n",
       "      <th>598581</th>\n",
       "      <td>9596</td>\n",
       "      <td>68809</td>\n",
       "      <td>59213</td>\n",
       "    </tr>\n",
       "    <tr>\n",
       "      <th>557318</th>\n",
       "      <td>30632</td>\n",
       "      <td>83710</td>\n",
       "      <td>53078</td>\n",
       "    </tr>\n",
       "    <tr>\n",
       "      <th>617139</th>\n",
       "      <td>13160</td>\n",
       "      <td>80042</td>\n",
       "      <td>66882</td>\n",
       "    </tr>\n",
       "    <tr>\n",
       "      <th>633821</th>\n",
       "      <td>20982</td>\n",
       "      <td>70985</td>\n",
       "      <td>50003</td>\n",
       "    </tr>\n",
       "    <tr>\n",
       "      <th>566313</th>\n",
       "      <td>43723</td>\n",
       "      <td>100482</td>\n",
       "      <td>56759</td>\n",
       "    </tr>\n",
       "  </tbody>\n",
       "</table>\n",
       "</div>"
      ],
      "text/plain": [
       "          DISBURSAL_DIFFERENCE  ASSET_COST  DISBURSED_AMOUNT\n",
       "UNIQUEID                                                    \n",
       "598581                    9596       68809             59213\n",
       "557318                   30632       83710             53078\n",
       "617139                   13160       80042             66882\n",
       "633821                   20982       70985             50003\n",
       "566313                   43723      100482             56759"
      ]
     },
     "execution_count": 34,
     "metadata": {},
     "output_type": "execute_result"
    }
   ],
   "source": [
    "loan_df['DISBURSAL_DIFFERENCE'] = loan_df['ASSET_COST'] - loan_df['DISBURSED_AMOUNT']\n",
    "\n",
    "loan_df[['DISBURSAL_DIFFERENCE', 'ASSET_COST', 'DISBURSED_AMOUNT']].sample(5)\n"
   ]
  },
  {
   "cell_type": "markdown",
   "id": "6c2dad6a",
   "metadata": {},
   "source": [
    "#### Primary and Secondary Account Engineering\n",
    "\n",
    "The loan data contains 14 columns providing information about any existing loans a customer may have. This data is split according to primary and secondary accounts, a primary account is a loan where the customer is the sole recipient of the disbursal, \n",
    "a secondary account is one where the customer is a co-applicant or guarantor for the loan.\n",
    "\n",
    "- PRI_NO_OF_ACCTS: count of total loans taken by the customer at the time of disbursement  \n",
    "- PRI_ACTIVE_ACCTS: count of active loans taken by the customer at the time of disbursement\n",
    "- PRI_OVERDUE_ACCTS: count of default accounts at the time of disbursement    \n",
    "- PRI_CURRENT_BALANCE: total Principal outstanding amount of the active loans at the time of disbursement        \n",
    "- PRI_SANCTIONED_AMOUNT: total amount that was sanctioned for all the loans at the time of disbursement  \n",
    "- PRI_DISBURSED_AMOUNT: total amount that was disbursed for all the loans at the time of disbursement\n",
    "- PRIMARY_INSTAL_AMT: EMI Amount of the primary loan\n",
    "- SEC_NO_OF_ACCTS: count of secondary total loans taken by the customer at the time of disbursement \n",
    "- SEC_ACTIVE_ACCTS: count of secondary active loans taken by the customer at the time of disbursement \n",
    "- SEC_OVERDUE_ACCTS: count of secondary accounts at the time of disbursement    \n",
    "- SEC_CURRENT_BALANCE: total Principal outstanding amount of the secondary active loans at the time of disbursement \n",
    "- SEC_SANCTIONED_AMOUNT: total amount that was sanctioned for all the secondary loans at the time of disbursement  \n",
    "- SEC_DISBURSED_AMOUNT: total amount that was disbursed for all the secondary loans at the time of disbursement\n",
    "- SEC_INSTAL_AMT: EMI Amount of the secondary loan \n",
    "\n",
    "We can create a function that adds all the primary and secondary accounts"
   ]
  },
  {
   "cell_type": "code",
   "execution_count": 35,
   "id": "5e2f0ee9",
   "metadata": {},
   "outputs": [],
   "source": [
    "def newtotalcol(pri, sec):\n",
    "    total='TOTAL'+ sec[3:]\n",
    "    \n",
    "    loan_df[total]= loan_df[pri]+loan_df[sec]"
   ]
  },
  {
   "cell_type": "code",
   "execution_count": 36,
   "id": "c835e812",
   "metadata": {},
   "outputs": [],
   "source": [
    "newtotalcol('PRI_NO_OF_ACCTS', 'SEC_NO_OF_ACCTS')\n",
    "newtotalcol('PRI_ACTIVE_ACCTS', 'SEC_ACTIVE_ACCTS')\n",
    "newtotalcol('PRI_OVERDUE_ACCTS', 'SEC_OVERDUE_ACCTS')\n",
    "newtotalcol('PRI_CURRENT_BALANCE', 'SEC_CURRENT_BALANCE')\n",
    "newtotalcol('PRI_SANCTIONED_AMOUNT', 'SEC_SANCTIONED_AMOUNT')\n",
    "newtotalcol('PRI_DISBURSED_AMOUNT', 'SEC_DISBURSED_AMOUNT')\n",
    "newtotalcol('PRIMARY_INSTAL_AMT', 'SEC_INSTAL_AMT')"
   ]
  },
  {
   "cell_type": "code",
   "execution_count": 37,
   "id": "278ee060",
   "metadata": {},
   "outputs": [
    {
     "data": {
      "text/plain": [
       "(233154, 30)"
      ]
     },
     "execution_count": 37,
     "metadata": {},
     "output_type": "execute_result"
    }
   ],
   "source": [
    "#drop columns that are no longer needed\n",
    "drop_cols = ['PRI_NO_OF_ACCTS', 'PRI_ACTIVE_ACCTS', 'PRI_OVERDUE_ACCTS', 'PRI_CURRENT_BALANCE', 'PRI_SANCTIONED_AMOUNT', 'PRI_DISBURSED_AMOUNT', 'PRIMARY_INSTAL_AMT', 'SEC_NO_OF_ACCTS', 'SEC_ACTIVE_ACCTS', 'SEC_OVERDUE_ACCTS', 'SEC_CURRENT_BALANCE', 'SEC_SANCTIONED_AMOUNT', 'SEC_DISBURSED_AMOUNT', 'SEC_INSTAL_AMT']\n",
    "\n",
    "loan_df = loan_df.drop(drop_cols, axis=1)\n",
    "\n",
    "#check shape\n",
    "loan_df.shape"
   ]
  },
  {
   "cell_type": "markdown",
   "id": "fc644cd2",
   "metadata": {},
   "source": [
    "I am also interested in calculating the percentage of the overdue accounts"
   ]
  },
  {
   "cell_type": "code",
   "execution_count": 38,
   "id": "77297c5e",
   "metadata": {},
   "outputs": [],
   "source": [
    "loan_df['OVERDUE_PCT'] = loan_df['TOTAL_OVERDUE_ACCTS'] / loan_df['TOTAL_NO_OF_ACCTS']"
   ]
  },
  {
   "cell_type": "code",
   "execution_count": 39,
   "id": "bb020b42",
   "metadata": {},
   "outputs": [
    {
     "data": {
      "text/plain": [
       "115792"
      ]
     },
     "execution_count": 39,
     "metadata": {},
     "output_type": "execute_result"
    }
   ],
   "source": [
    "#check for missing values\n",
    "loan_df['OVERDUE_PCT'].isnull().sum()"
   ]
  },
  {
   "cell_type": "code",
   "execution_count": 40,
   "id": "1a93f27f",
   "metadata": {},
   "outputs": [
    {
     "data": {
      "text/plain": [
       "0"
      ]
     },
     "execution_count": 40,
     "metadata": {},
     "output_type": "execute_result"
    }
   ],
   "source": [
    "#fill missing values\n",
    "loan_df['OVERDUE_PCT']=loan_df['OVERDUE_PCT'].fillna(0)\n",
    "\n",
    "#double check missing values\n",
    "loan_df['OVERDUE_PCT'].isnull().sum()"
   ]
  },
  {
   "cell_type": "code",
   "execution_count": 41,
   "id": "82bf14fa",
   "metadata": {},
   "outputs": [
    {
     "name": "stdout",
     "output_type": "stream",
     "text": [
      "<class 'pandas.core.frame.DataFrame'>\n",
      "Int64Index: 233154 entries, 420825 to 630213\n",
      "Data columns (total 31 columns):\n",
      " #   Column                               Non-Null Count   Dtype   \n",
      "---  ------                               --------------   -----   \n",
      " 0   DISBURSED_AMOUNT                     233154 non-null  int64   \n",
      " 1   ASSET_COST                           233154 non-null  int64   \n",
      " 2   LTV                                  233154 non-null  float64 \n",
      " 3   MANUFACTURER_ID                      233154 non-null  int64   \n",
      " 4   EMPLOYMENT_TYPE                      233154 non-null  object  \n",
      " 5   STATE_ID                             233154 non-null  int64   \n",
      " 6   AADHAR_FLAG                          233154 non-null  int64   \n",
      " 7   PAN_FLAG                             233154 non-null  int64   \n",
      " 8   VOTERID_FLAG                         233154 non-null  int64   \n",
      " 9   DRIVING_FLAG                         233154 non-null  int64   \n",
      " 10  PASSPORT_FLAG                        233154 non-null  int64   \n",
      " 11  PERFORM_CNS_SCORE                    233154 non-null  int64   \n",
      " 12  PERFORM_CNS_SCORE_DESCRIPTION        233154 non-null  object  \n",
      " 13  NEW_ACCTS_IN_LAST_SIX_MONTHS         233154 non-null  int64   \n",
      " 14  DELINQUENT_ACCTS_IN_LAST_SIX_MONTHS  233154 non-null  int64   \n",
      " 15  NO_OF_INQUIRIES                      233154 non-null  int64   \n",
      " 16  LOAN_DEFAULT                         233154 non-null  int64   \n",
      " 17  AGE                                  233154 non-null  int64   \n",
      " 18  DISBURSAL_MONTH                      233154 non-null  int64   \n",
      " 19  CREDIT_HISTORY_LENGTH_MONTHS         233154 non-null  int64   \n",
      " 20  AVERAGE_ACCT_AGE_MONTHS              233154 non-null  int64   \n",
      " 21  DISBURSED_CAT                        233154 non-null  category\n",
      " 22  DISBURSAL_DIFFERENCE                 233154 non-null  int64   \n",
      " 23  TOTAL_NO_OF_ACCTS                    233154 non-null  int64   \n",
      " 24  TOTAL_ACTIVE_ACCTS                   233154 non-null  int64   \n",
      " 25  TOTAL_OVERDUE_ACCTS                  233154 non-null  int64   \n",
      " 26  TOTAL_CURRENT_BALANCE                233154 non-null  int64   \n",
      " 27  TOTAL_SANCTIONED_AMOUNT              233154 non-null  int64   \n",
      " 28  TOTAL_DISBURSED_AMOUNT               233154 non-null  int64   \n",
      " 29  TOTAL_INSTAL_AMT                     233154 non-null  int64   \n",
      " 30  OVERDUE_PCT                          233154 non-null  float64 \n",
      "dtypes: category(1), float64(2), int64(26), object(2)\n",
      "memory usage: 55.4+ MB\n"
     ]
    }
   ],
   "source": [
    "#check dataframe info\n",
    "loan_df.info()"
   ]
  },
  {
   "cell_type": "markdown",
   "id": "8d01a7a4",
   "metadata": {},
   "source": [
    "## Lesson 3 - Scaling \n",
    "- We will use min max scaling to bring our continuous variables into the same range \n",
    "- Outliers have been observed in the data. However, we will keep them as they appear to be legitimate\n",
    "\n",
    "First, we create a list of our continuous columns \n",
    "- We can use this list to select the continuous variables from our dataframe without typing a long list of column names each time \n",
    "- We don't need to scale our categoricals or binaries"
   ]
  },
  {
   "cell_type": "code",
   "execution_count": 42,
   "id": "5d1c3a97",
   "metadata": {},
   "outputs": [],
   "source": [
    "numeric_cols = ['DISBURSED_AMOUNT', \n",
    "                'ASSET_COST', \n",
    "                'LTV', \n",
    "                'NEW_ACCTS_IN_LAST_SIX_MONTHS', \n",
    "                'DELINQUENT_ACCTS_IN_LAST_SIX_MONTHS', \n",
    "                'NO_OF_INQUIRIES', \n",
    "                'AGE', \n",
    "                'AVERAGE_ACCT_AGE_MONTHS', \n",
    "                'CREDIT_HISTORY_LENGTH_MONTHS',\n",
    "                'PERFORM_CNS_SCORE',\n",
    "                'TOTAL_NO_OF_ACCTS',\n",
    "                'TOTAL_ACTIVE_ACCTS',\n",
    "                'TOTAL_OVERDUE_ACCTS',\n",
    "                'TOTAL_CURRENT_BALANCE', \n",
    "                'TOTAL_SANCTIONED_AMOUNT', \n",
    "                'TOTAL_DISBURSED_AMOUNT', \n",
    "                'TOTAL_INSTAL_AMT', \n",
    "                'OVERDUE_PCT', \n",
    "                'DISBURSAL_DIFFERENCE']"
   ]
  },
  {
   "cell_type": "code",
   "execution_count": 43,
   "id": "e4caa5e4",
   "metadata": {},
   "outputs": [
    {
     "data": {
      "image/png": "[encoded data removed]",
      "text/plain": [
       "<Figure size 640x480 with 1 Axes>"
      ]
     },
     "metadata": {},
     "output_type": "display_data"
    }
   ],
   "source": [
    "#create instance of min max scaler\n",
    "mm_scaler=MinMaxScaler()\n",
    "\n",
    "#apply fit transform\n",
    "loan_df[numeric_cols]=mm_scaler.fit_transform(loan_df[numeric_cols])\n",
    "\n",
    "#visualize transformed column\n",
    "loan_df[['LTV', 'ASSET_COST', 'AGE']].boxplot()\n",
    "plt.title('Prior to Scaling')\n",
    "plt.show()"
   ]
  },
  {
   "cell_type": "markdown",
   "id": "224053d5",
   "metadata": {},
   "source": [
    "### Linear Classifiers\n",
    "\n",
    "### Train/Test Split\n",
    "We will create a simple linear classifier using logistic regression.\n",
    "\n",
    "It is important that our classifier recognises categorical variables where appropriate.\n",
    "\n",
    "We do not want to treat MANUFACTURER_ID, STATE_ID and DISBURSAL_MONTH as integers. We can encode our categorical columns with the category data type"
   ]
  },
  {
   "cell_type": "code",
   "execution_count": 44,
   "id": "b41e489e",
   "metadata": {},
   "outputs": [
    {
     "data": {
      "text/plain": [
       "MANUFACTURER_ID                  category\n",
       "STATE_ID                         category\n",
       "DISBURSAL_MONTH                  category\n",
       "DISBURSED_CAT                    category\n",
       "PERFORM_CNS_SCORE_DESCRIPTION    category\n",
       "EMPLOYMENT_TYPE                  category\n",
       "dtype: object"
      ]
     },
     "execution_count": 44,
     "metadata": {},
     "output_type": "execute_result"
    }
   ],
   "source": [
    "category_cols = ['MANUFACTURER_ID', 'STATE_ID', 'DISBURSAL_MONTH', 'DISBURSED_CAT', 'PERFORM_CNS_SCORE_DESCRIPTION', 'EMPLOYMENT_TYPE']\n",
    "\n",
    "loan_df[category_cols] = loan_df[category_cols].astype('category')\n",
    "\n",
    "loan_df[category_cols].dtypes\n"
   ]
  },
  {
   "cell_type": "markdown",
   "id": "6a10f8ab",
   "metadata": {},
   "source": [
    "- To keep our first model simple, select 6 variables including 'LOAN_DEFAULT' and 'DISBURSED_CAT'\n",
    "- Using these variables create a subset of loan_df and store it as a separate DataFrame loan_df_sml\n",
    "- I have selected the following 6 columns, 'STATE_ID', 'LTV', 'DISBURSED_CAT', 'PERFORM_CNS_SCORE', 'DISBURSAL_MONTH', 'LOAN_DEFAULT'"
   ]
  },
  {
   "cell_type": "code",
   "execution_count": 45,
   "id": "6c560534",
   "metadata": {},
   "outputs": [
    {
     "name": "stdout",
     "output_type": "stream",
     "text": [
      "(233154, 6)\n",
      "<class 'pandas.core.frame.DataFrame'>\n",
      "Int64Index: 233154 entries, 420825 to 630213\n",
      "Data columns (total 6 columns):\n",
      " #   Column             Non-Null Count   Dtype   \n",
      "---  ------             --------------   -----   \n",
      " 0   STATE_ID           233154 non-null  category\n",
      " 1   LTV                233154 non-null  float64 \n",
      " 2   DISBURSED_CAT      233154 non-null  category\n",
      " 3   PERFORM_CNS_SCORE  233154 non-null  float64 \n",
      " 4   DISBURSAL_MONTH    233154 non-null  category\n",
      " 5   LOAN_DEFAULT       233154 non-null  int64   \n",
      "dtypes: category(3), float64(2), int64(1)\n",
      "memory usage: 7.8 MB\n"
     ]
    }
   ],
   "source": [
    "small_cols = ['STATE_ID', 'LTV', 'DISBURSED_CAT', 'PERFORM_CNS_SCORE', 'DISBURSAL_MONTH', 'LOAN_DEFAULT']\n",
    "\n",
    "loan_df_sml = loan_df[small_cols]\n",
    "\n",
    "print(loan_df_sml.shape)\n",
    "\n",
    "loan_df_sml.info()"
   ]
  },
  {
   "cell_type": "markdown",
   "id": "4088d882",
   "metadata": {},
   "source": [
    " Before fitting (train) the basic linear model we need to split our data into training and test sets.\n",
    "- Training Data: used to fit the model to our specific data\n",
    "- Test Data: used to test the predictive power of the trained model\n",
    "\n",
    "- x: all of the rows and columns except the target variable \n",
    "- y: all of the rows but just the target variable column"
   ]
  },
  {
   "cell_type": "code",
   "execution_count": 46,
   "id": "31a62174",
   "metadata": {},
   "outputs": [
    {
     "name": "stdout",
     "output_type": "stream",
     "text": [
      "x has 233154 rows and 5 columns\n",
      "y has 233154 rows\n",
      "---------\n",
      "x_train has 186523 rows and 5 columns\n",
      "x_test has 46631 rows and 5 columns\n",
      "y_train has 186523 rows\n",
      "y_test has 46631 rows\n"
     ]
    }
   ],
   "source": [
    "x = loan_df_sml.drop(['LOAN_DEFAULT'], axis=1)\n",
    "y = loan_df_sml['LOAN_DEFAULT']\n",
    "\n",
    "print(\"x has {0} rows and {1} columns\".format(x.shape[0], x.shape[1]))\n",
    "print(\"y has {0} rows\".format(y.count()))\n",
    "\n",
    "x_train, x_test, y_train, y_test = train_test_split(x, y, test_size=0.2, random_state=42)\n",
    "\n",
    "print('---------')\n",
    "print(\"x_train has {0} rows and {1} columns\".format(x_train.shape[0], x_train.shape[1]))\n",
    "print(\"x_test has {0} rows and {1} columns\".format(x_test.shape[0], x_test.shape[1]))\n",
    "print(\"y_train has {0} rows\".format(y_train.count()))\n",
    "print(\"y_test has {0} rows\".format(y_test.count()))"
   ]
  },
  {
   "cell_type": "markdown",
   "id": "81efe4de",
   "metadata": {},
   "source": [
    "Like most machine learning methods, logistic regression does not know how to deal with string data\n",
    "\n",
    "We can use pd.get_dummies to one hot encode the categorical variables"
   ]
  },
  {
   "cell_type": "code",
   "execution_count": 47,
   "id": "f391c7bb",
   "metadata": {},
   "outputs": [],
   "source": [
    "loan_data_dumm = pd.get_dummies(loan_df_sml, prefix_sep='_', drop_first=True)"
   ]
  },
  {
   "cell_type": "code",
   "execution_count": 48,
   "id": "1b593fdb",
   "metadata": {},
   "outputs": [
    {
     "name": "stdout",
     "output_type": "stream",
     "text": [
      "<class 'pandas.core.frame.DataFrame'>\n",
      "Int64Index: 233154 entries, 420825 to 630213\n",
      "Data columns (total 31 columns):\n",
      " #   Column                    Non-Null Count   Dtype  \n",
      "---  ------                    --------------   -----  \n",
      " 0   LTV                       233154 non-null  float64\n",
      " 1   PERFORM_CNS_SCORE         233154 non-null  float64\n",
      " 2   LOAN_DEFAULT              233154 non-null  int64  \n",
      " 3   STATE_ID_2                233154 non-null  uint8  \n",
      " 4   STATE_ID_3                233154 non-null  uint8  \n",
      " 5   STATE_ID_4                233154 non-null  uint8  \n",
      " 6   STATE_ID_5                233154 non-null  uint8  \n",
      " 7   STATE_ID_6                233154 non-null  uint8  \n",
      " 8   STATE_ID_7                233154 non-null  uint8  \n",
      " 9   STATE_ID_8                233154 non-null  uint8  \n",
      " 10  STATE_ID_9                233154 non-null  uint8  \n",
      " 11  STATE_ID_10               233154 non-null  uint8  \n",
      " 12  STATE_ID_11               233154 non-null  uint8  \n",
      " 13  STATE_ID_12               233154 non-null  uint8  \n",
      " 14  STATE_ID_13               233154 non-null  uint8  \n",
      " 15  STATE_ID_14               233154 non-null  uint8  \n",
      " 16  STATE_ID_15               233154 non-null  uint8  \n",
      " 17  STATE_ID_16               233154 non-null  uint8  \n",
      " 18  STATE_ID_17               233154 non-null  uint8  \n",
      " 19  STATE_ID_18               233154 non-null  uint8  \n",
      " 20  STATE_ID_19               233154 non-null  uint8  \n",
      " 21  STATE_ID_20               233154 non-null  uint8  \n",
      " 22  STATE_ID_21               233154 non-null  uint8  \n",
      " 23  STATE_ID_22               233154 non-null  uint8  \n",
      " 24  DISBURSED_CAT_30k - 45k   233154 non-null  uint8  \n",
      " 25  DISBURSED_CAT_45k - 60k   233154 non-null  uint8  \n",
      " 26  DISBURSED_CAT_60k - 75k   233154 non-null  uint8  \n",
      " 27  DISBURSED_CAT_75k - 150k  233154 non-null  uint8  \n",
      " 28  DISBURSED_CAT_150k - 1m   233154 non-null  uint8  \n",
      " 29  DISBURSAL_MONTH_9         233154 non-null  uint8  \n",
      " 30  DISBURSAL_MONTH_10        233154 non-null  uint8  \n",
      "dtypes: float64(2), int64(1), uint8(28)\n",
      "memory usage: 13.3 MB\n"
     ]
    }
   ],
   "source": [
    "loan_data_dumm.info()"
   ]
  },
  {
   "cell_type": "code",
   "execution_count": 49,
   "id": "295ca730",
   "metadata": {},
   "outputs": [
    {
     "name": "stdout",
     "output_type": "stream",
     "text": [
      "x has 233154 rows and 30 columns\n",
      "y has 233154 rows\n",
      "0    0.783099\n",
      "1    0.216901\n",
      "Name: LOAN_DEFAULT, dtype: float64\n",
      "0    0.782248\n",
      "1    0.217752\n",
      "Name: LOAN_DEFAULT, dtype: float64\n"
     ]
    }
   ],
   "source": [
    "x = loan_data_dumm.drop(['LOAN_DEFAULT'], axis=1)\n",
    "y = loan_data_dumm['LOAN_DEFAULT']\n",
    "\n",
    "\n",
    "print(\"x has {0} rows and {1} columns\".format(x.shape[0], x.shape[1]))\n",
    "print(\"y has {0} rows\".format(y.count()))\n",
    "\n",
    "x_train, x_test, y_train, y_test = train_test_split(x, y, test_size=0.2, random_state=42)\n",
    "\n",
    "print(y_train.value_counts(normalize=True))\n",
    "print(y_test.value_counts(normalize=True))"
   ]
  },
  {
   "cell_type": "code",
   "execution_count": 50,
   "id": "7a3e1cfa",
   "metadata": {},
   "outputs": [
    {
     "data": {
      "text/plain": [
       "LogisticRegression(max_iter=200)"
      ]
     },
     "execution_count": 50,
     "metadata": {},
     "output_type": "execute_result"
    }
   ],
   "source": [
    "#fit the model\n",
    "logistic_model = LogisticRegression(max_iter=200)\n",
    "logistic_model.fit(x_train, y_train)"
   ]
  },
  {
   "cell_type": "code",
   "execution_count": 51,
   "id": "9f4b4e2e",
   "metadata": {},
   "outputs": [
    {
     "data": {
      "text/plain": [
       "array([0, 0, 0, ..., 0, 0, 0], dtype=int64)"
      ]
     },
     "execution_count": 51,
     "metadata": {},
     "output_type": "execute_result"
    }
   ],
   "source": [
    "#generate predictions for test set\n",
    "pred = logistic_model.predict(x_test)\n",
    "pred"
   ]
  },
  {
   "cell_type": "markdown",
   "id": "134133c1",
   "metadata": {},
   "source": [
    "The score function generates predictions and compares the predicted class with the actual class. The output is a floating-point number between 0 and 1 telling us the percentage of loans we correctly classified!"
   ]
  },
  {
   "cell_type": "code",
   "execution_count": 52,
   "id": "3ab57e31",
   "metadata": {},
   "outputs": [
    {
     "data": {
      "text/plain": [
       "0.782269305826596"
      ]
     },
     "execution_count": 52,
     "metadata": {},
     "output_type": "execute_result"
    }
   ],
   "source": [
    "logistic_model.score(x_test, y_test)"
   ]
  },
  {
   "cell_type": "markdown",
   "id": "f8c8027e",
   "metadata": {},
   "source": [
    "Looks like our model performed quite well, it predicted 78% of our test cases correctly."
   ]
  },
  {
   "cell_type": "markdown",
   "id": "4952c044",
   "metadata": {},
   "source": [
    "### Model Evaluation\n",
    "I will create two functions, the first one that will help plot a roc curve which will then be used to evaluate the model in another function. \n",
    "\n",
    "The evaluation model function will create a simple confusion matrix which is a 2D array of the True Negative, False Positive, False Negative and True Positve. These can be combined to find:\n",
    "- Precision = TP/(TP+FP) how many actual positive predictions were correct\n",
    "- Recall = TP/(TP+FN) how many of the actual positive cases were correctly classified\n",
    "- F1 Score= 2((precision * recall)/(precision + recall)) Useful when a balance is needed between precision and recall\n",
    "\n",
    "The function will then look at class percentage splits and probability distributions"
   ]
  },
  {
   "cell_type": "code",
   "execution_count": 53,
   "id": "24939506",
   "metadata": {},
   "outputs": [],
   "source": [
    "#function to plot roc curve\n",
    "def plot_roc_curve(fpr, tpr, roc_auc):\n",
    "    plt.title('Receiver Operating Characteristic')\n",
    "    plt.plot(fpr, tpr, 'b', label = 'AUC = %0.2f' % roc_auc)\n",
    "    plt.legend(loc = 'lower right')\n",
    "    plt.plot([0, 1], [0, 1],'r--')\n",
    "    plt.xlim([0, 1])\n",
    "    plt.ylim([0, 1])\n",
    "    plt.ylabel('True Positive Rate')\n",
    "    plt.xlabel('False Positive Rate')\n",
    "    plt.show()"
   ]
  },
  {
   "cell_type": "code",
   "execution_count": 54,
   "id": "2da7f754",
   "metadata": {},
   "outputs": [],
   "source": [
    "#function to evaluate model\n",
    "def eval_model(model, x_test, y_test):\n",
    "    preds = model.predict(x_test)\n",
    "    probs = model.predict_proba(x_test)\n",
    "\n",
    "    accuracy = accuracy_score(y_test, preds)\n",
    "    recall = recall_score(y_test, preds)\n",
    "    precision = precision_score(y_test, preds)\n",
    "    f1 = f1_score(y_test, preds)\n",
    "\n",
    "    conf_mat=confusion_matrix(y_test,pred)\n",
    "    display=ConfusionMatrixDisplay(conf_mat)\n",
    "    display.plot()\n",
    "    plt.show() \n",
    "\n",
    "    print(\"\\n\")\n",
    "    print(\"Accuracy: \", accuracy)\n",
    "    print(\"Precision: \", precision)\n",
    "    print(\"Recall: \", recall)\n",
    "    print(\"F1: \", f1)\n",
    "\n",
    "    #Show ROC Curve\n",
    "    fpr, tpr, threshold = roc_curve(y_test, probs[:,1], pos_label=1)\n",
    "    roc_auc = auc(fpr, tpr)\n",
    "    print(\"AUC: \", roc_auc)\n",
    "\n",
    "    plot_roc_curve(fpr, tpr, roc_auc)\n",
    "\n",
    "    results_df = pd.DataFrame()\n",
    "    results_df['true_class'] = y_test\n",
    "    results_df['predicted_class'] = list(preds)\n",
    "    results_df['default_prob'] = probs[:, 1]\n",
    "\n",
    "    #plot the distribution of probabilities for the estimated classes\n",
    "    sns.distplot(results_df[results_df['true_class'] == 0]['default_prob'], label=\"No Default\", hist=False)\n",
    "    sns.distplot(results_df[results_df['true_class'] == 1]['default_prob'], label=\"Default\", hist=False)\n",
    "    plt.show()\n",
    "\n",
    "    #see the true class versus predicted class as a percentage\n",
    "    print(results_df.groupby('true_class')['predicted_class'].value_counts(normalize=True))"
   ]
  },
  {
   "cell_type": "code",
   "execution_count": 55,
   "id": "e04cb0fe",
   "metadata": {},
   "outputs": [
    {
     "data": {
      "image/png": "[encoded data removed]",
      "text/plain": [
       "<Figure size 640x480 with 2 Axes>"
      ]
     },
     "metadata": {},
     "output_type": "display_data"
    },
    {
     "name": "stdout",
     "output_type": "stream",
     "text": [
      "\n",
      "\n",
      "Accuracy:  0.782269305826596\n",
      "Precision:  0.6\n",
      "Recall:  0.00029545006893834944\n",
      "F1:  0.0005906093119401516\n",
      "AUC:  0.6095124784165883\n"
     ]
    },
    {
     "data": {
      "image/png": "[encoded data removed]",
      "text/plain": [
       "<Figure size 640x480 with 1 Axes>"
      ]
     },
     "metadata": {},
     "output_type": "display_data"
    },
    {
     "name": "stderr",
     "output_type": "stream",
     "text": [
      "C:\\Users\\onwoc\\anaconda\\lib\\site-packages\\seaborn\\distributions.py:2619: FutureWarning: `distplot` is a deprecated function and will be removed in a future version. Please adapt your code to use either `displot` (a figure-level function with similar flexibility) or `kdeplot` (an axes-level function for kernel density plots).\n",
      "  warnings.warn(msg, FutureWarning)\n",
      "C:\\Users\\onwoc\\anaconda\\lib\\site-packages\\seaborn\\distributions.py:2619: FutureWarning: `distplot` is a deprecated function and will be removed in a future version. Please adapt your code to use either `displot` (a figure-level function with similar flexibility) or `kdeplot` (an axes-level function for kernel density plots).\n",
      "  warnings.warn(msg, FutureWarning)\n"
     ]
    },
    {
     "data": {
      "image/png": "[encoded data removed]",
      "text/plain": [
       "<Figure size 640x480 with 1 Axes>"
      ]
     },
     "metadata": {},
     "output_type": "display_data"
    },
    {
     "name": "stdout",
     "output_type": "stream",
     "text": [
      "true_class  predicted_class\n",
      "0           0                  0.999945\n",
      "            1                  0.000055\n",
      "1           0                  0.999705\n",
      "            1                  0.000295\n",
      "Name: predicted_class, dtype: float64\n"
     ]
    }
   ],
   "source": [
    "eval_model(logistic_model, x_test, y_test)"
   ]
  },
  {
   "cell_type": "markdown",
   "id": "c67e1739",
   "metadata": {},
   "source": [
    "It can be seen that the accuracy of the model is 78% but this can be misleading.\n",
    "Out of the positive predictions, 75% were actually positive. Although, we can see from the confusion matrix that the model  only predicted a small number of instances as positive.\n",
    "Recall of ~0.0003, we hardly identified any of the loan defaults, this shows that this model is not reliable.\n",
    "Our model has an AUC of ~0.61\n",
    "- The AUC score for a random classifier is 0.5 and the model is not doing a good job of separating the classes \n",
    "\n",
    "The chart below the roc curve shows that the model has very poor separability"
   ]
  },
  {
   "cell_type": "markdown",
   "id": "4b0425ad",
   "metadata": {},
   "source": [
    "### Random Forest\n",
    "\n",
    "In this section, I will use the random forest classifier to build a random forest model for the data.\n",
    "\n",
    "I will create a function that creates the training/tesr sets and dummy variables "
   ]
  },
  {
   "cell_type": "code",
   "execution_count": 56,
   "id": "6c4ddea5",
   "metadata": {},
   "outputs": [],
   "source": [
    "def encode_and_split(loan_df):\n",
    "    loan_data_dumm = pd.get_dummies(loan_df, prefix_sep='_', drop_first=True)\n",
    "\n",
    "    x = loan_data_dumm.drop(['LOAN_DEFAULT'], axis=1)\n",
    "    y = loan_data_dumm['LOAN_DEFAULT']\n",
    "\n",
    "    x_train, x_test, y_train, y_test = train_test_split(x, y, test_size=0.2, random_state=42)\n",
    "\n",
    "    return x_train, x_test, y_train, y_test"
   ]
  },
  {
   "cell_type": "code",
   "execution_count": 57,
   "id": "d5dc8e38",
   "metadata": {},
   "outputs": [
    {
     "name": "stdout",
     "output_type": "stream",
     "text": [
      "Training Features Shape (186523, 83)\n",
      "Training Label Rows 186523\n",
      "-------------------------\n",
      "Testing Features Shape (46631, 83)\n",
      "Testing Label Rows 46631\n",
      "-------------------------\n",
      "Testing Features Shape (46631, 83)\n",
      "Testing Label Rows 46631\n"
     ]
    }
   ],
   "source": [
    "x_train, x_test, y_train, y_test = encode_and_split(loan_df)\n",
    "\n",
    "print(\"Training Features Shape\", x_train.shape)\n",
    "print(\"Training Label Rows\", y_train.count())\n",
    "print('-------------------------')\n",
    "print(\"Testing Features Shape\", x_test.shape)\n",
    "print(\"Testing Label Rows\", y_test.count())\n",
    "print('-------------------------')\n",
    "print(\"Testing Features Shape\", x_test.shape)\n",
    "print(\"Testing Label Rows\", y_test.count())"
   ]
  },
  {
   "cell_type": "code",
   "execution_count": 58,
   "id": "a580ed8b",
   "metadata": {},
   "outputs": [
    {
     "data": {
      "image/png": "[encoded data removed]",
      "text/plain": [
       "<Figure size 640x480 with 2 Axes>"
      ]
     },
     "metadata": {},
     "output_type": "display_data"
    },
    {
     "name": "stdout",
     "output_type": "stream",
     "text": [
      "\n",
      "\n",
      "Accuracy:  0.6382234993888186\n",
      "Precision:  0.3054235716769035\n",
      "Recall:  0.5191057711246799\n",
      "F1:  0.38457609805924414\n",
      "AUC:  0.6395094620077552\n"
     ]
    },
    {
     "data": {
      "image/png": "[encoded data removed]",
      "text/plain": [
       "<Figure size 640x480 with 1 Axes>"
      ]
     },
     "metadata": {},
     "output_type": "display_data"
    },
    {
     "name": "stderr",
     "output_type": "stream",
     "text": [
      "C:\\Users\\onwoc\\anaconda\\lib\\site-packages\\seaborn\\distributions.py:2619: FutureWarning: `distplot` is a deprecated function and will be removed in a future version. Please adapt your code to use either `displot` (a figure-level function with similar flexibility) or `kdeplot` (an axes-level function for kernel density plots).\n",
      "  warnings.warn(msg, FutureWarning)\n",
      "C:\\Users\\onwoc\\anaconda\\lib\\site-packages\\seaborn\\distributions.py:2619: FutureWarning: `distplot` is a deprecated function and will be removed in a future version. Please adapt your code to use either `displot` (a figure-level function with similar flexibility) or `kdeplot` (an axes-level function for kernel density plots).\n",
      "  warnings.warn(msg, FutureWarning)\n"
     ]
    },
    {
     "data": {
      "image/png": "[encoded data removed]",
      "text/plain": [
       "<Figure size 640x480 with 1 Axes>"
      ]
     },
     "metadata": {},
     "output_type": "display_data"
    },
    {
     "name": "stdout",
     "output_type": "stream",
     "text": [
      "true_class  predicted_class\n",
      "0           0                  0.671382\n",
      "            1                  0.328618\n",
      "1           1                  0.519106\n",
      "            0                  0.480894\n",
      "Name: predicted_class, dtype: float64\n"
     ]
    }
   ],
   "source": [
    "rfc_model = RandomForestClassifier(n_estimators = 100, max_depth = 15, class_weight='balanced')\n",
    "\n",
    "rfc_model.fit(x_train, y_train)\n",
    "eval_model(rfc_model, x_test, y_test)"
   ]
  },
  {
   "cell_type": "markdown",
   "id": "3a6d8f1f",
   "metadata": {},
   "source": [
    "### Accuracy \n",
    "\n",
    "- ~62% lower than the simple logistic regression model we built already\n",
    "\n",
    "### Precision \n",
    "\n",
    "- The score is identical to that of the logistic regression\n",
    "\n",
    "### Recall \n",
    "- Recall has increased dramatically, from 0.03% to 53%!\n",
    "- Random Forest picked up a lot more of the actual positive cases\n",
    "- It still missed most of them\n",
    "\n",
    "### F1\n",
    "\n",
    "- The F1 score has also increased dramatically from 0.0006 to ~0.38! \n",
    "- There is a better balance between Precision and Recall for Random Forest\n",
    "- Although this is still generally poor\n",
    "\n",
    "### AUC \n",
    "\n",
    "- The area under the roc curve has increased very slightly\n",
    "\n",
    "### Probability Distributions \n",
    "\n",
    "- The main peak for Non defaults is inline with the peak for defaults, this makes sense as we know the model is classifying a lot of non-defaults as defaults"
   ]
  },
  {
   "cell_type": "code",
   "execution_count": 59,
   "id": "1cf315bc",
   "metadata": {},
   "outputs": [],
   "source": [
    "loan_df.to_csv('vehicle_loans_feat.csv')"
   ]
  }
 ],
 "metadata": {
  "kernelspec": {
   "display_name": "Python 3 (ipykernel)",
   "language": "python",
   "name": "python3"
  },
  "language_info": {
   "codemirror_mode": {
    "name": "ipython",
    "version": 3
   },
   "file_extension": ".py",
   "mimetype": "text/x-python",
   "name": "python",
   "nbconvert_exporter": "python",
   "pygments_lexer": "ipython3",
   "version": "3.9.13"
  }
 },
 "nbformat": 4,
 "nbformat_minor": 5
}
